{
 "cells": [
  {
   "cell_type": "code",
   "execution_count": 13,
   "metadata": {
    "collapsed": true
   },
   "outputs": [],
   "source": [
    "import numpy as np\n",
    "import pandas as pd \n",
    "import matplotlib.pyplot as plt\n",
    "import seaborn as sns\n",
    "sns.set_style(\"whitegrid\")\n",
    "sns.set_context(\"poster\")\n",
    "color = sns.color_palette()\n",
    "%matplotlib inline"
   ]
  },
  {
   "cell_type": "code",
   "execution_count": 11,
   "metadata": {
    "collapsed": true
   },
   "outputs": [],
   "source": [
    "x = 0\n",
    "T = 1000\n",
    "y = []\n",
    "for t in range(T):\n",
    "    x = rho_x * x + np.random.normal(x, 0.1)\n",
    "    y.append(np.random.normal(x, 1))\n",
    "y = np.array(y)"
   ]
  },
  {
   "cell_type": "code",
   "execution_count": 12,
   "metadata": {},
   "outputs": [
    {
     "data": {
      "text/plain": [
       "[<matplotlib.lines.Line2D at 0x11e195080>]"
      ]
     },
     "execution_count": 12,
     "metadata": {},
     "output_type": "execute_result"
    },
    {
     "data": {
      "image/png": "[encoded data removed]",
      "text/plain": [
       "<matplotlib.figure.Figure at 0x11dd514e0>"
      ]
     },
     "metadata": {},
     "output_type": "display_data"
    }
   ],
   "source": [
    "plt.plot(y)"
   ]
  },
  {
   "cell_type": "code",
   "execution_count": null,
   "metadata": {
    "collapsed": true
   },
   "outputs": [],
   "source": []
  },
  {
   "cell_type": "code",
   "execution_count": 14,
   "metadata": {
    "collapsed": true
   },
   "outputs": [],
   "source": [
    "def kalman_filter(y, sigma_eps, sigma_gamma, mu_init, sigma_init):\n",
    "    T = len(y)\n",
    "    mu = [mu_init]\n",
    "    sigma = [sigma_init]\n",
    "    for t in range(T):\n",
    "        mu.append(mu[-1] + (sigma_eps + sigma[-1]) / (sigma_eps + sigma[-1] + sigma_gamma)*(y[t] -  mu[-1]))\n",
    "        sigma.append(1/(1 / (sigma[-1] + sigma_eps) + 1 / sigma_gamma))\n",
    "    return mu, sigma"
   ]
  },
  {
   "cell_type": "code",
   "execution_count": 15,
   "metadata": {
    "collapsed": true
   },
   "outputs": [],
   "source": [
    "def kalman_smoother(y, x_filter, sigma_filter, sigma_eps, sigma_gamma):\n",
    "    T = len(y)\n",
    "    mu = [x_filter[-1]]\n",
    "    sigma = [sigma_filter[-1]]\n",
    "    for t in range(1, T + 1):\n",
    "        mu.append(x_filter[T - t] + sigma_filter[T - t]/(sigma_filter[T - t] + sigma_eps) * (mu[-1] - x_filter[T - t]))\n",
    "        sigma.append((sigma_filter[T - t]/(sigma_filter[T - t] + sigma_eps))**2 * sigma[-1] + sigma_filter[T-t]/(sigma_filter[T - t] + sigma_eps) * sigma_eps)\n",
    "    return mu, sigma"
   ]
  },
  {
   "cell_type": "code",
   "execution_count": 16,
   "metadata": {
    "collapsed": true
   },
   "outputs": [],
   "source": [
    "def E_step(y, sigma_eps, sigma_gamma, mu_init, sigma_init):\n",
    "    x_filter, sigma_filter = kalman_filter(y, sigma_eps, sigma_gamma, mu_init, sigma_init)\n",
    "    x_smoother, sigma_smoother = kalman_smoother(y, x_filter, sigma_filter, sigma_eps, sigma_gamma)\n",
    "    \n",
    "    return x_smoother[::-1], x_smoother[0], sigma_smoother, sigma_filter"
   ]
  },
  {
   "cell_type": "code",
   "execution_count": 17,
   "metadata": {
    "collapsed": true
   },
   "outputs": [],
   "source": [
    "def M_step(y, x_smoother, sigma_smoother, sigma_filter, sigma_eps_old):\n",
    "    T = len(y)\n",
    "#     sigma_eps = sum((x_smoother[1:] - x_smoother[:T]) ** 2)/T\n",
    "#     sigma_gamma = sum((y - x_smoother[1:])**2)/(T + 1)\n",
    "\n",
    "    W = x_smoother ** 2 + sigma_smoother\n",
    "    W_cov = x_smoother[1:] * x_smoother[:T] \\\n",
    "            + sigma_filter[:T]/(sigma_filter[:T] + sigma_eps_old) * sigma_smoother[1:]\n",
    "    \n",
    "    sigma_eps = sum(W[1:] + W[:T] - 2 * W_cov)/T\n",
    "    sigma_gamma = sum(y ** 2 + x_smoother[1:]**2 + sigma_smoother[1:] - 2 * y * x_smoother[1:])/(T + 1)\n",
    "\n",
    "    return sigma_eps, sigma_gamma"
   ]
  },
  {
   "cell_type": "code",
   "execution_count": 18,
   "metadata": {
    "collapsed": true
   },
   "outputs": [],
   "source": [
    "def EM(y):\n",
    "    sigma_eps_old = 0.08\n",
    "    sigma_gamma_old = 0.8\n",
    "    sigma_eps = 0.2\n",
    "    sigma_gamma = 1\n",
    "    mu_init = y[0]\n",
    "    sigma_init = 0.1\n",
    "    sigma_eps_ls = []\n",
    "    sigma_gamma_ls = []\n",
    "    while np.abs(sigma_eps_old - sigma_eps) > 1e-6 or np.abs(sigma_gamma_old - sigma_gamma) > 1e-6:\n",
    "        sigma_eps_old = sigma_eps\n",
    "        sigma_gamma_old = sigma_gamma\n",
    "        x_smoother,mu_init,sigma_smoother, sigma_filter = E_step(y, sigma_eps, sigma_gamma, mu_init, sigma_init)\n",
    "        sigma_eps, sigma_gamma = M_step(y, np.array(x_smoother), np.array(sigma_smoother), np.array(sigma_filter), sigma_eps_old)\n",
    "        sigma_eps_ls.append(sigma_eps)\n",
    "        sigma_gamma_ls.append(sigma_gamma)\n",
    "    \n",
    "    return x_smoother, sigma_eps_ls, sigma_gamma_ls"
   ]
  },
  {
   "cell_type": "code",
   "execution_count": null,
   "metadata": {},
   "outputs": [],
   "source": [
    "x_smoother, sigma_eps_ls, sigma_gamma_ls = EM(y)"
   ]
  },
  {
   "cell_type": "code",
   "execution_count": 10,
   "metadata": {},
   "outputs": [
    {
     "data": {
      "text/plain": [
       "[<matplotlib.lines.Line2D at 0x116d6d438>]"
      ]
     },
     "execution_count": 10,
     "metadata": {},
     "output_type": "execute_result"
    },
    {
     "data": {
      "image/png": "[encoded data removed]",
      "text/plain": [
       "<matplotlib.figure.Figure at 0x116df7e10>"
      ]
     },
     "metadata": {},
     "output_type": "display_data"
    }
   ],
   "source": [
    "plt.plot(sigma_gamma_ls)"
   ]
  },
  {
   "cell_type": "code",
   "execution_count": 11,
   "metadata": {},
   "outputs": [
    {
     "data": {
      "text/plain": [
       "[0.17656214360950362,\n",
       " 0.15877075334132204,\n",
       " 0.14419686764335482,\n",
       " 0.13180444812196307,\n",
       " 0.12108575848126621,\n",
       " 0.11172748119768117,\n",
       " 0.10350170733698032,\n",
       " 0.09623001227159206,\n",
       " 0.08976856641164158,\n",
       " 0.0839998248565472,\n",
       " 0.07882687239496149,\n",
       " 0.07416922556534983,\n",
       " 0.06995961023679416,\n",
       " 0.0661414507213349,\n",
       " 0.06266689502951434,\n",
       " 0.059495250017820044,\n",
       " 0.05659173277461671,\n",
       " 0.05392646782510964,\n",
       " 0.051473676741750046,\n",
       " 0.04921101934714542,\n",
       " 0.04711905511009072,\n",
       " 0.0451808004180603,\n",
       " 0.04338136277455635,\n",
       " 0.041707637060306654,\n",
       " 0.04014805213603097,\n",
       " 0.038692358487716016,\n",
       " 0.03733144949730147,\n",
       " 0.036057210391704196,\n",
       " 0.03486239007771968,\n",
       " 0.03374049198207262,\n",
       " 0.03268568073952839,\n",
       " 0.031692702149181275,\n",
       " 0.030756814281628676,\n",
       " 0.02987372799218769,\n",
       " 0.02903955539650461,\n",
       " 0.028250765109519512,\n",
       " 0.027504143248225765,\n",
       " 0.02679675936197892,\n",
       " 0.026125936588333357,\n",
       " 0.02548922544310274,\n",
       " 0.024884380744998148,\n",
       " 0.024309341251336714,\n",
       " 0.02376221164477577,\n",
       " 0.023241246564087856,\n",
       " 0.022744836416501643,\n",
       " 0.022271494746577095,\n",
       " 0.02181984696817825,\n",
       " 0.02138862029284274,\n",
       " 0.02097663471053017,\n",
       " 0.02058279489803068,\n",
       " 0.02020608294677797,\n",
       " 0.019845551815885314,\n",
       " 0.019500319428291706,\n",
       " 0.01916956333827174,\n",
       " 0.018852515907493,\n",
       " 0.01854845993451165,\n",
       " 0.01825672468926368,\n",
       " 0.017976682309889015,\n",
       " 0.017707744524247025,\n",
       " 0.017449359662849283,\n",
       " 0.017201009933750462,\n",
       " 0.016962208933263976,\n",
       " 0.016732499369287095,\n",
       " 0.016511450976576025,\n",
       " 0.016298658605556352,\n",
       " 0.016093740468232823,\n",
       " 0.015896336526503144,\n",
       " 0.015706107009719847,\n",
       " 0.01552273104970518,\n",
       " 0.01534590542262906,\n",
       " 0.015175343388228464,\n",
       " 0.015010773617798236,\n",
       " 0.014851939203227265,\n",
       " 0.014698596740107511,\n",
       " 0.014550515478615125,\n",
       " 0.01440747653646338,\n",
       " 0.014269272168764753,\n",
       " 0.01413570509011886,\n",
       " 0.014006587844677162,\n",
       " 0.013881742220320096,\n",
       " 0.013760998703433119,\n",
       " 0.01364419597108025,\n",
       " 0.013531180417657029,\n",
       " 0.013421805713359672,\n",
       " 0.013315932392038037,\n",
       " 0.013213427466207892,\n",
       " 0.013114164067186435,\n",
       " 0.013018021108486775,\n",
       " 0.012924882970761005,\n",
       " 0.012834639206722962,\n",
       " 0.012747184264609811,\n",
       " 0.012662417228856903,\n",
       " 0.012580241576768604,\n",
       " 0.012500564950060888,\n",
       " 0.012423298940243814,\n",
       " 0.012348358886888369,\n",
       " 0.012275663687899098,\n",
       " 0.012205135620979284,\n",
       " 0.012136700175537004,\n",
       " 0.01207028589433814,\n",
       " 0.012005824224262768,\n",
       " 0.011943249375569388,\n",
       " 0.01188249818911513,\n",
       " 0.011823510011020315,\n",
       " 0.011766226574301425,\n",
       " 0.011710591887032317,\n",
       " 0.011656552126623207,\n",
       " 0.011604055539836244,\n",
       " 0.011553052348183858,\n",
       " 0.01150349465837828,\n",
       " 0.011455336377526645,\n",
       " 0.011408533132783998,\n",
       " 0.011363042195197182,\n",
       " 0.011318822407490573,\n",
       " 0.011275834115561332,\n",
       " 0.011234039103465602,\n",
       " 0.01119340053169448,\n",
       " 0.011153882878548068,\n",
       " 0.011115451884431164,\n",
       " 0.011078074498903728,\n",
       " 0.01104171883033116,\n",
       " 0.011006354097987742,\n",
       " 0.010971950586477208,\n",
       " 0.010938479602342238,\n",
       " 0.010905913432742182,\n",
       " 0.010874225306087183,\n",
       " 0.010843389354521364,\n",
       " 0.010813380578157162,\n",
       " 0.010784174810965734,\n",
       " 0.010755748688236836,\n",
       " 0.01072807961552467,\n",
       " 0.010701145739002058,\n",
       " 0.010674925917149872,\n",
       " 0.010649399693712607,\n",
       " 0.010624547271855234,\n",
       " 0.01060034948945974,\n",
       " 0.010576787795504061,\n",
       " 0.010553844227468821,\n",
       " 0.010531501389720185,\n",
       " 0.0105097424328207,\n",
       " 0.01048855103372212,\n",
       " 0.010467911376797224,\n",
       " 0.010447808135669305,\n",
       " 0.010428226455801,\n",
       " 0.010409151937805896,\n",
       " 0.010390570621448273,\n",
       " 0.010372468970298723,\n",
       " 0.010354833857013504,\n",
       " 0.010337652549209984,\n",
       " 0.010320912695909021,\n",
       " 0.010304602314518739,\n",
       " 0.010288709778334746,\n",
       " 0.010273223804532473,\n",
       " 0.010258133442630187,\n",
       " 0.010243428063401047,\n",
       " 0.010229097348213506,\n",
       " 0.010215131278781625,\n",
       " 0.010201520127306954,\n",
       " 0.010188254446994406,\n",
       " 0.010175325062926068,\n",
       " 0.010162723063277063,\n",
       " 0.010150439790858884,\n",
       " 0.010138466834976136,\n",
       " 0.01012679602358268,\n",
       " 0.010115419415725387,\n",
       " 0.010104329294262556,\n",
       " 0.010093518158845967,\n",
       " 0.010082978719154914,\n",
       " 0.01007270388837268,\n",
       " 0.010062686776894652,\n",
       " 0.010052920686258656,\n",
       " 0.01004339910328899,\n",
       " 0.010034115694444958,\n",
       " 0.01002506430036569,\n",
       " 0.010016238930603634,\n",
       " 0.01000763375853907,\n",
       " 0.009999243116468593,\n",
       " 0.009991061490860261,\n",
       " 0.009983083517769286,\n",
       " 0.00997530397840826,\n",
       " 0.009967717794865376,\n",
       " 0.009960320025964938,\n",
       " 0.009953105863265263,\n",
       " 0.009946070627188625,\n",
       " 0.009939209763277269,\n",
       " 0.009932518838572444,\n",
       " 0.009925993538110264,\n",
       " 0.009919629661531069,\n",
       " 0.009913423119797555,\n",
       " 0.009907369932018151,\n",
       " 0.009901466222370977,\n",
       " 0.009895708217125631,\n",
       " 0.009890092241758916,\n",
       " 0.009884614718160633,\n",
       " 0.009879272161927221,\n",
       " 0.009874061179739137,\n",
       " 0.009868978466819557,\n",
       " 0.009864020804471497,\n",
       " 0.009859185057690407,\n",
       " 0.009854468172849611,\n",
       " 0.009849867175456516,\n",
       " 0.009845379167976355,\n",
       " 0.009841001327721838,\n",
       " 0.009836730904806417,\n",
       " 0.009832565220158108,\n",
       " 0.009828501663593376,\n",
       " 0.009824537691947634,\n",
       " 0.009820670827261275,\n",
       " 0.009816898655018915,\n",
       " 0.009813218822440543,\n",
       " 0.0098096290368227,\n",
       " 0.009806127063927538,\n",
       " 0.009802710726419238,\n",
       " 0.009799377902345209,\n",
       " 0.009796126523661462,\n",
       " 0.009792954574799567,\n",
       " 0.009789860091275797,\n",
       " 0.009786841158338904,\n",
       " 0.009783895909656849,\n",
       " 0.009781022526040807,\n",
       " 0.00977821923420498,\n",
       " 0.00977548430556125,\n",
       " 0.009772816055048256,\n",
       " 0.009770212839992605,\n",
       " 0.009767673059002188,\n",
       " 0.009765195150890147,\n",
       " 0.009762777593628827,\n",
       " 0.00976041890333261,\n",
       " 0.009758117633268762,\n",
       " 0.009755872372895524,\n",
       " 0.009753681746926698,\n",
       " 0.00975154441442163,\n",
       " 0.009749459067900154,\n",
       " 0.009747424432481583,\n",
       " 0.009745439265047302,\n",
       " 0.009743502353425613,\n",
       " 0.009741612515598916,\n",
       " 0.009739768598932209,\n",
       " 0.009737969479422272,\n",
       " 0.009736214060967072,\n",
       " 0.00973450127465468,\n",
       " 0.009732830078071157,\n",
       " 0.009731199454626978,\n",
       " 0.009729608412901219,\n",
       " 0.009728055986003315,\n",
       " 0.009726541230951591,\n",
       " 0.00972506322806838,\n",
       " 0.00972362108039081,\n",
       " 0.009722213913097393,\n",
       " 0.009720840872949672,\n",
       " 0.009719501127748106,\n",
       " 0.009718193865802888,\n",
       " 0.009716918295417922,\n",
       " 0.009715673644388592,\n",
       " 0.0097144591595128,\n",
       " 0.009713274106114105,\n",
       " 0.009712117767577872,\n",
       " 0.009710989444899178,\n",
       " 0.009709888456242398,\n",
       " 0.009708814136511947,\n",
       " 0.009707765836934834,\n",
       " 0.009706742924652928,\n",
       " 0.009705744782326754,\n",
       " 0.009704770807748517,\n",
       " 0.009703820413465777,\n",
       " 0.00970289302641434,\n",
       " 0.0097019880875607,\n",
       " 0.009701105051553652,\n",
       " 0.009700243386384642,\n",
       " 0.009699402573056869,\n",
       " 0.009698582105262797,\n",
       " 0.009697781489069775,\n",
       " 0.009697000242613893,\n",
       " 0.009696237895801287,\n",
       " 0.009695493990017085,\n",
       " 0.009694768077841849,\n",
       " 0.00969405972277521,\n",
       " 0.009693368498966128,\n",
       " 0.009692693990950376,\n",
       " 0.00969203579339443,\n",
       " 0.009691393510845714,\n",
       " 0.009690766757489385,\n",
       " 0.009690155156910995,\n",
       " 0.009689558341865207,\n",
       " 0.00968897595405037,\n",
       " 0.009688407643888567,\n",
       " 0.009687853070311309,\n",
       " 0.009687311900550494,\n",
       " 0.009686783809934681,\n",
       " 0.009686268481690343,\n",
       " 0.009685765606748296,\n",
       " 0.009685274883554596,\n",
       " 0.009684796017886594,\n",
       " 0.00968432872267303]"
      ]
     },
     "execution_count": 11,
     "metadata": {},
     "output_type": "execute_result"
    }
   ],
   "source": [
    "sigma_eps_ls"
   ]
  },
  {
   "cell_type": "code",
   "execution_count": 12,
   "metadata": {},
   "outputs": [
    {
     "data": {
      "text/plain": [
       "[0.8435285984723311,\n",
       " 0.808708395386794,\n",
       " 0.804323301769015,\n",
       " 0.808089469076674,\n",
       " 0.8136222872468954,\n",
       " 0.8191675051127499,\n",
       " 0.8243124537870863,\n",
       " 0.8290082772113705,\n",
       " 0.8332921097966887,\n",
       " 0.8372138190881602,\n",
       " 0.8408190536430359,\n",
       " 0.8441466358489446,\n",
       " 0.8472291632787267,\n",
       " 0.8500940861346705,\n",
       " 0.8527646755533419,\n",
       " 0.8552608036886528,\n",
       " 0.8575995592653305,\n",
       " 0.8597957339819277,\n",
       " 0.8618622095347175,\n",
       " 0.8638102680271683,\n",
       " 0.8656498428836051,\n",
       " 0.867389723178934,\n",
       " 0.8690377211999879,\n",
       " 0.8706008107643205,\n",
       " 0.8720852421149943,\n",
       " 0.873496637925055,\n",
       " 0.8748400739704644,\n",
       " 0.8761201472842275,\n",
       " 0.8773410340295086,\n",
       " 0.8785065388829415,\n",
       " 0.8796201373705627,\n",
       " 0.8806850123241585,\n",
       " 0.8817040854087871,\n",
       " 0.8826800444992693,\n",
       " 0.8836153675452338,\n",
       " 0.8845123434529907,\n",
       " 0.8853730904226159,\n",
       " 0.8861995721055821,\n",
       " 0.886993611888678,\n",
       " 0.8877569055611075,\n",
       " 0.8884910325814976,\n",
       " 0.889197466128263,\n",
       " 0.8898775820893078,\n",
       " 0.890532667124008,\n",
       " 0.8911639259112938,\n",
       " 0.891772487681539,\n",
       " 0.8923594121164153,\n",
       " 0.8929256946894444,\n",
       " 0.8934722715102676,\n",
       " 0.8940000237274592,\n",
       " 0.8945097815375906,\n",
       " 0.8950023278423908,\n",
       " 0.8954784015905183,\n",
       " 0.8959387008361951,\n",
       " 0.8963838855430146,\n",
       " 0.8968145801579824,\n",
       " 0.8972313759779653,\n",
       " 0.8976348333282294,\n",
       " 0.898025483570593,\n",
       " 0.8984038309567906,\n",
       " 0.8987703543409986,\n",
       " 0.8991255087640386,\n",
       " 0.8994697269204119,\n",
       " 0.8998034205182869,\n",
       " 0.9001269815414814,\n",
       " 0.9004407834216087,\n",
       " 0.9007451821278212,\n",
       " 0.9010405171807909,\n",
       " 0.9013271125970453,\n",
       " 0.9016052777691215,\n",
       " 0.9018753082865825,\n",
       " 0.9021374867024521,\n",
       " 0.9023920832492117,\n",
       " 0.9026393565081706,\n",
       " 0.9028795540357019,\n",
       " 0.9031129129494917,\n",
       " 0.903339660477734,\n",
       " 0.9035600144739557,\n",
       " 0.9037741838999112,\n",
       " 0.9039823692788073,\n",
       " 0.9041847631209624,\n",
       " 0.9043815503237748,\n",
       " 0.9045729085478087,\n",
       " 0.904759008570587,\n",
       " 0.9049400146196458,\n",
       " 0.9051160846862019,\n",
       " 0.9052873708207241,\n",
       " 0.90545401941165,\n",
       " 0.9056161714482656,\n",
       " 0.9057739627688824,\n",
       " 0.9059275242951503,\n",
       " 0.9060769822534839,\n",
       " 0.9062224583843544,\n",
       " 0.9063640701402544,\n",
       " 0.9065019308730183,\n",
       " 0.9066361500111678,\n",
       " 0.9067668332279001,\n",
       " 0.9068940826002784,\n",
       " 0.9070179967601806,\n",
       " 0.9071386710374755,\n",
       " 0.9072561975959154,\n",
       " 0.9073706655621636,\n",
       " 0.9074821611483673,\n",
       " 0.9075907677686493,\n",
       " 0.90769656614989,\n",
       " 0.9077996344370844,\n",
       " 0.9079000482936582,\n",
       " 0.907997880996942,\n",
       " 0.9080932035291593,\n",
       " 0.9081860846641208,\n",
       " 0.9082765910498891,\n",
       " 0.9083647872876486,\n",
       " 0.9084507360069488,\n",
       " 0.9085344979375576,\n",
       " 0.9086161319781002,\n",
       " 0.908695695261633,\n",
       " 0.9087732432183412,\n",
       " 0.9088488296354961,\n",
       " 0.9089225067148379,\n",
       " 0.9089943251274762,\n",
       " 0.9090643340664889,\n",
       " 0.9091325812972869,\n",
       " 0.9091991132059035,\n",
       " 0.9092639748452722,\n",
       " 0.9093272099796309,\n",
       " 0.9093888611271085,\n",
       " 0.9094489696006144,\n",
       " 0.9095075755470976,\n",
       " 0.9095647179852601,\n",
       " 0.9096204348417884,\n",
       " 0.90967476298619,\n",
       " 0.9097277382642932,\n",
       " 0.9097793955304607,\n",
       " 0.9098297686786019,\n",
       " 0.9098788906720123,\n",
       " 0.9099267935721181,\n",
       " 0.909973508566157,\n",
       " 0.9100190659938402,\n",
       " 0.9100634953730772,\n",
       " 0.910106825424749,\n",
       " 0.9101490840966123,\n",
       " 0.9101902985863592,\n",
       " 0.9102304953638811,\n",
       " 0.9102697001927271,\n",
       " 0.9103079381508582,\n",
       " 0.9103452336506714,\n",
       " 0.9103816104583484,\n",
       " 0.9104170917125509,\n",
       " 0.910451699942492,\n",
       " 0.9104854570854148,\n",
       " 0.9105183845034701,\n",
       " 0.9105505030000757,\n",
       " 0.9105818328357119,\n",
       " 0.9106123937432308,\n",
       " 0.9106422049426562,\n",
       " 0.9106712851555246,\n",
       " 0.9106996526187644,\n",
       " 0.9107273250981376,\n",
       " 0.9107543199012712,\n",
       " 0.9107806538902671,\n",
       " 0.9108063434939341,\n",
       " 0.9108314047196469,\n",
       " 0.910855853164827,\n",
       " 0.9108797040280914,\n",
       " 0.9109029721200503,\n",
       " 0.9109256718737956,\n",
       " 0.9109478173550636,\n",
       " 0.9109694222721003,\n",
       " 0.910990499985237,\n",
       " 0.9110110635161637,\n",
       " 0.9110311255569798,\n",
       " 0.911050698478921,\n",
       " 0.9110697943408739,\n",
       " 0.911088424897628,\n",
       " 0.9111066016078981,\n",
       " 0.9111243356421045,\n",
       " 0.9111416378899544,\n",
       " 0.9111585189677766,\n",
       " 0.9111749892256735,\n",
       " 0.9111910587544667,\n",
       " 0.9112067373924396,\n",
       " 0.9112220347318954,\n",
       " 0.9112369601255372,\n",
       " 0.9112515226926696,\n",
       " 0.9112657313252168,\n",
       " 0.9112795946935937,\n",
       " 0.9112931212524006,\n",
       " 0.911306319245976,\n",
       " 0.9113191967137766,\n",
       " 0.9113317614956369,\n",
       " 0.9113440212368633,\n",
       " 0.9113559833932147,\n",
       " 0.9113676552357137,\n",
       " 0.9113790438553651,\n",
       " 0.9113901561677269,\n",
       " 0.9114009989173655,\n",
       " 0.91141157868219,\n",
       " 0.9114219018776708,\n",
       " 0.9114319747609428,\n",
       " 0.911441803434818,\n",
       " 0.9114513938516675,\n",
       " 0.9114607518172112,\n",
       " 0.9114698829942182,\n",
       " 0.9114787929060902,\n",
       " 0.9114874869403665,\n",
       " 0.9114959703521426,\n",
       " 0.9115042482673673,\n",
       " 0.9115123256860947,\n",
       " 0.9115202074856257,\n",
       " 0.9115278984235852,\n",
       " 0.9115354031408891,\n",
       " 0.9115427261646829,\n",
       " 0.9115498719111566,\n",
       " 0.9115568446883149,\n",
       " 0.9115636486986749,\n",
       " 0.9115702880418793,\n",
       " 0.9115767667172566,\n",
       " 0.9115830886263157,\n",
       " 0.9115892575751635,\n",
       " 0.9115952772768791,\n",
       " 0.9116011513538126,\n",
       " 0.9116068833398294,\n",
       " 0.9116124766825123,\n",
       " 0.9116179347452721,\n",
       " 0.9116232608094512,\n",
       " 0.9116284580763325,\n",
       " 0.9116335296691245,\n",
       " 0.9116384786348869,\n",
       " 0.9116433079463991,\n",
       " 0.911648020503999,\n",
       " 0.9116526191373697,\n",
       " 0.9116571066072641,\n",
       " 0.9116614856072099,\n",
       " 0.9116657587651664,\n",
       " 0.9116699286451311,\n",
       " 0.911673997748702,\n",
       " 0.9116779685166296,\n",
       " 0.9116818433302876,\n",
       " 0.9116856245131492,\n",
       " 0.9116893143321942,\n",
       " 0.9116929149992966,\n",
       " 0.9116964286725784,\n",
       " 0.911699857457722,\n",
       " 0.9117032034092489,\n",
       " 0.9117064685317896,\n",
       " 0.9117096547812792,\n",
       " 0.9117127640661713,\n",
       " 0.9117157982485851,\n",
       " 0.9117187591454395,\n",
       " 0.9117216485295591,\n",
       " 0.9117244681307523,\n",
       " 0.9117272196368613,\n",
       " 0.91172990469478,\n",
       " 0.911732524911463,\n",
       " 0.9117350818548943,\n",
       " 0.9117375770550348,\n",
       " 0.9117400120047569,\n",
       " 0.9117423881607407,\n",
       " 0.9117447069443609,\n",
       " 0.9117469697425453,\n",
       " 0.9117491779086152,\n",
       " 0.9117513327630978,\n",
       " 0.9117534355945331,\n",
       " 0.911755487660244,\n",
       " 0.911757490187104,\n",
       " 0.9117594443722712,\n",
       " 0.9117613513839099,\n",
       " 0.9117632123619053,\n",
       " 0.9117650284185457,\n",
       " 0.9117668006391848,\n",
       " 0.9117685300829093,\n",
       " 0.9117702177831731,\n",
       " 0.9117718647484101,\n",
       " 0.9117734719626578,\n",
       " 0.9117750403861437,\n",
       " 0.9117765709558546,\n",
       " 0.9117780645861094,\n",
       " 0.9117795221691163,\n",
       " 0.91178094457549,\n",
       " 0.9117823326547912,\n",
       " 0.9117836872360344,\n",
       " 0.9117850091281825,\n",
       " 0.9117862991206345,\n",
       " 0.9117875579837025,\n",
       " 0.9117887864690729,\n",
       " 0.9117899853102551,\n",
       " 0.9117911552230249,\n",
       " 0.9117922969058577,\n",
       " 0.911793411040341,\n",
       " 0.911794498291585,\n",
       " 0.9117955593086302,\n",
       " 0.911796594724822,\n",
       " 0.9117976051582038,\n",
       " 0.9117985912118851]"
      ]
     },
     "execution_count": 12,
     "metadata": {},
     "output_type": "execute_result"
    }
   ],
   "source": [
    "sigma_gamma_ls"
   ]
  },
  {
   "cell_type": "code",
   "execution_count": 38,
   "metadata": {
    "collapsed": true
   },
   "outputs": [],
   "source": [
    "x_filter, sigma_filter = kalman_filter(y, 0.05, 0.5, y[0], 0.05)"
   ]
  },
  {
   "cell_type": "code",
   "execution_count": 39,
   "metadata": {
    "collapsed": true
   },
   "outputs": [],
   "source": [
    "x_smoother,_ = kalman_smoother(y, x_filter, sigma_filter, 0.05, 0.5)"
   ]
  },
  {
   "cell_type": "code",
   "execution_count": null,
   "metadata": {
    "collapsed": true
   },
   "outputs": [],
   "source": []
  },
  {
   "cell_type": "code",
   "execution_count": 20,
   "metadata": {
    "collapsed": true
   },
   "outputs": [],
   "source": [
    "df = pd.read_csv('cryptocurrencypricehistory-daily/bitcoin_price.csv')"
   ]
  },
  {
   "cell_type": "code",
   "execution_count": 21,
   "metadata": {
    "collapsed": true
   },
   "outputs": [],
   "source": [
    "df = df[::-1]"
   ]
  },
  {
   "cell_type": "code",
   "execution_count": 22,
   "metadata": {},
   "outputs": [
    {
     "data": {
      "text/plain": [
       "<matplotlib.axes._subplots.AxesSubplot at 0x11e195e10>"
      ]
     },
     "execution_count": 22,
     "metadata": {},
     "output_type": "execute_result"
    },
    {
     "data": {
      "image/png": "[encoded data removed]",
      "text/plain": [
       "<matplotlib.figure.Figure at 0x11e21a7f0>"
      ]
     },
     "metadata": {},
     "output_type": "display_data"
    }
   ],
   "source": [
    "df.plot('Date', 'Close', figsize=(20,10))"
   ]
  },
  {
   "cell_type": "code",
   "execution_count": 23,
   "metadata": {
    "collapsed": true
   },
   "outputs": [],
   "source": [
    "price = df.Close.values"
   ]
  },
  {
   "cell_type": "code",
   "execution_count": 24,
   "metadata": {
    "collapsed": true
   },
   "outputs": [],
   "source": [
    "#price_ret = (price[1:] - price[:len(price) - 1]) / price[:len(price) - 1]\n",
    "# price_ret = np.log(price)\n",
    "price_ret = price"
   ]
  },
  {
   "cell_type": "code",
   "execution_count": 25,
   "metadata": {
    "collapsed": true
   },
   "outputs": [],
   "source": [
    "x_smoother, sigma_eps_ls, sigma_gamma_ls= EM(price_ret[:1500])"
   ]
  },
  {
   "cell_type": "code",
   "execution_count": 22,
   "metadata": {},
   "outputs": [
    {
     "data": {
      "text/plain": [
       "[0.1568622583893741,\n",
       " 0.09738382679718904,\n",
       " 0.05323185583687782,\n",
       " 0.028024646081279858,\n",
       " 0.01475305475381522,\n",
       " 0.007948519199284193,\n",
       " 0.004503509759407123,\n",
       " 0.0027741143266168914,\n",
       " 0.001914879858958533,\n",
       " 0.0014973665999054048,\n",
       " 0.001305082881511306,\n",
       " 0.0012274853814807046,\n",
       " 0.0012070849173854109,\n",
       " 0.0012136681608783655,\n",
       " 0.001231563492381317,\n",
       " 0.0012529932250297784,\n",
       " 0.001274395690539104,\n",
       " 0.0012943544341819783,\n",
       " 0.0013124660727809215,\n",
       " 0.0013287572975173134,\n",
       " 0.0013434069346022236,\n",
       " 0.0013566254084158705,\n",
       " 0.0013686090839052174,\n",
       " 0.0013795271875097891,\n",
       " 0.0013895213764171027,\n",
       " 0.001398709338078433,\n",
       " 0.0014071890539598304,\n",
       " 0.0014150426065741043,\n",
       " 0.0014223392830032822,\n",
       " 0.0014291380232640022,\n",
       " 0.0014354893358386534,\n",
       " 0.001441436800187238,\n",
       " 0.0014470182536113943,\n",
       " 0.0014522667371672402,\n",
       " 0.0014572112564560863,\n",
       " 0.0014618773987402705,\n",
       " 0.001466287837765762,\n",
       " 0.0014704627496706923,\n",
       " 0.0014744201582555642,\n",
       " 0.0014781762231725253,\n",
       " 0.0014817454822534206,\n",
       " 0.0014851410560999673,\n",
       " 0.0014883748218862962,\n",
       " 0.0014914575617622366,\n",
       " 0.0014943990899475778,\n",
       " 0.0014972083622994746,\n",
       " 0.001499893570938582,\n",
       " 0.0015024622264902044,\n",
       " 0.0015049212295582207,\n",
       " 0.0015072769334121526,\n",
       " 0.0015095351987082827,\n",
       " 0.0015117014418850989,\n",
       " 0.0015137806776753518,\n",
       " 0.0015157775567634579,\n",
       " 0.0015176963992780989,\n",
       " 0.0015195412245000786,\n",
       " 0.0015213157773858038,\n",
       " 0.0015230235522591235,\n",
       " 0.0015246678140527147,\n",
       " 0.0015262516173762464,\n",
       " 0.0015277778236825127,\n",
       " 0.0015292491167211797,\n",
       " 0.0015306680165191012,\n",
       " 0.0015320368920468752,\n",
       " 0.001533357972637063,\n",
       " 0.0015346333584445612,\n",
       " 0.0015358650299118562,\n",
       " 0.001537054856353971,\n",
       " 0.0015382046039476526,\n",
       " 0.001539315942850346,\n",
       " 0.0015403904537815408,\n",
       " 0.0015414296341583764,\n",
       " 0.0015424349035645644,\n",
       " 0.0015434076088972166]"
      ]
     },
     "execution_count": 22,
     "metadata": {},
     "output_type": "execute_result"
    }
   ],
   "source": [
    "sigma_eps_ls"
   ]
  },
  {
   "cell_type": "markdown",
   "metadata": {},
   "source": [
    "E[exp(X)]=exp(μ+σ2/2)"
   ]
  },
  {
   "cell_type": "code",
   "execution_count": 26,
   "metadata": {},
   "outputs": [
    {
     "data": {
      "text/plain": [
       "[<matplotlib.lines.Line2D at 0x11e4fbdd8>]"
      ]
     },
     "execution_count": 26,
     "metadata": {},
     "output_type": "execute_result"
    },
    {
     "data": {
      "image/png": "[encoded data removed]",
      "text/plain": [
       "<matplotlib.figure.Figure at 0x11e0b5908>"
      ]
     },
     "metadata": {},
     "output_type": "display_data"
    }
   ],
   "source": [
    "plt.plot(x_smoother[1:])"
   ]
  },
  {
   "cell_type": "code",
   "execution_count": 27,
   "metadata": {},
   "outputs": [
    {
     "data": {
      "text/plain": [
       "[<matplotlib.lines.Line2D at 0x11ede0588>]"
      ]
     },
     "execution_count": 27,
     "metadata": {},
     "output_type": "execute_result"
    },
    {
     "data": {
      "image/png": "[encoded data removed]",
      "text/plain": [
       "<matplotlib.figure.Figure at 0x11e4b7da0>"
      ]
     },
     "metadata": {},
     "output_type": "display_data"
    }
   ],
   "source": [
    "plt.plot(price_ret)"
   ]
  },
  {
   "cell_type": "code",
   "execution_count": 28,
   "metadata": {
    "collapsed": true
   },
   "outputs": [],
   "source": [
    "x_filter, sigma_filter = kalman_filter(price_ret[:1759], sigma_eps_ls[-1],  sigma_gamma_ls[-1], price_ret[0], sigma_gamma_ls[-1])"
   ]
  },
  {
   "cell_type": "code",
   "execution_count": 29,
   "metadata": {},
   "outputs": [
    {
     "data": {
      "text/plain": [
       "[<matplotlib.lines.Line2D at 0x11e54c780>]"
      ]
     },
     "execution_count": 29,
     "metadata": {},
     "output_type": "execute_result"
    },
    {
     "data": {
      "image/png": "[encoded data removed]",
      "text/plain": [
       "<matplotlib.figure.Figure at 0x11e54c6d8>"
      ]
     },
     "metadata": {},
     "output_type": "display_data"
    }
   ],
   "source": [
    "plt.errorbar(range(len(x_filter)), x_filter, yerr= 2 * np.sqrt(sigma_filter))\n",
    "#plt.plot(price_ret[1000:1010])\n",
    "plt.plot(price_ret[:1760], 'r')"
   ]
  },
  {
   "cell_type": "code",
   "execution_count": 30,
   "metadata": {},
   "outputs": [
    {
     "data": {
      "text/plain": [
       "229.5612414143629"
      ]
     },
     "execution_count": 30,
     "metadata": {},
     "output_type": "execute_result"
    }
   ],
   "source": [
    "from sklearn.metrics import mean_squared_error\n",
    "np.sqrt(mean_squared_error(price_ret, x_filter))"
   ]
  },
  {
   "cell_type": "code",
   "execution_count": 33,
   "metadata": {},
   "outputs": [
    {
     "name": "stdout",
     "output_type": "stream",
     "text": [
      "Train Score: 28.065886 RMSE\n",
      "Test Score: 593.450079 RMSE\n"
     ]
    }
   ],
   "source": [
    "trainScore = np.sqrt(mean_squared_error(price_ret[:1500], x_filter[:1500]))\n",
    "print('Train Score: %.6f RMSE' % (trainScore))\n",
    "testScore = np.sqrt(mean_squared_error(price_ret[1500:], x_filter[1500:]))\n",
    "print('Test Score: %.6f RMSE' % (testScore))"
   ]
  },
  {
   "cell_type": "code",
   "execution_count": 34,
   "metadata": {},
   "outputs": [
    {
     "name": "stdout",
     "output_type": "stream",
     "text": [
      "Train Score: 28.432996 RMSE\n",
      "Test Score: 594.493056 RMSE\n"
     ]
    }
   ],
   "source": [
    "trainScore = np.sqrt(mean_squared_error(price_ret[:1500], price_ret[1:1501]))\n",
    "print('Train Score: %.6f RMSE' % (trainScore))\n",
    "testScore = np.sqrt(mean_squared_error(price_ret[1500:1759], price_ret[1501:]))\n",
    "print('Test Score: %.6f RMSE' % (testScore))"
   ]
  },
  {
   "cell_type": "code",
   "execution_count": 37,
   "metadata": {},
   "outputs": [],
   "source": [
    "pred = []\n",
    "for t in range(260):\n",
    "    x_smoother, sigma_eps_ls, sigma_gamma_ls= EM(price_ret[1300 + t:t + 1500])\n",
    "    pred.append(x_smoother[-1])"
   ]
  },
  {
   "cell_type": "code",
   "execution_count": 38,
   "metadata": {},
   "outputs": [
    {
     "data": {
      "text/plain": [
       "593.4495321589606"
      ]
     },
     "execution_count": 38,
     "metadata": {},
     "output_type": "execute_result"
    }
   ],
   "source": [
    "np.sqrt(mean_squared_error(pred, price_ret[1500:]))"
   ]
  },
  {
   "cell_type": "code",
   "execution_count": 39,
   "metadata": {},
   "outputs": [
    {
     "name": "stderr",
     "output_type": "stream",
     "text": [
      "/Users/gwungwun/anaconda/lib/python3.6/site-packages/h5py/__init__.py:34: FutureWarning: Conversion of the second argument of issubdtype from `float` to `np.floating` is deprecated. In future, it will be treated as `np.float64 == np.dtype(float).type`.\n",
      "  from ._conv import register_converters as _register_converters\n",
      "Using TensorFlow backend.\n"
     ]
    }
   ],
   "source": [
    "# compare with lstm\n",
    "from keras.models import Sequential\n",
    "from keras.layers import Dense\n",
    "from keras.layers import LSTM\n",
    "from sklearn.preprocessing import MinMaxScaler\n",
    "from sklearn.metrics import mean_squared_error"
   ]
  },
  {
   "cell_type": "code",
   "execution_count": 40,
   "metadata": {},
   "outputs": [
    {
     "name": "stdout",
     "output_type": "stream",
     "text": [
      "1500 260\n"
     ]
    }
   ],
   "source": [
    "# split into train and test sets\n",
    "train_size = 1500\n",
    "test_size = len(price_ret) - train_size\n",
    "train, test = price_ret.reshape(-1, 1)[0:train_size], price_ret.reshape(-1, 1)[train_size:len(price_ret)]\n",
    "print(len(train), len(test))"
   ]
  },
  {
   "cell_type": "code",
   "execution_count": 41,
   "metadata": {},
   "outputs": [],
   "source": [
    "# normalize the dataset\n",
    "scaler = MinMaxScaler(feature_range=(0, 1))\n",
    "train = scaler.fit_transform(train)\n",
    "test = scaler.transform(test)"
   ]
  },
  {
   "cell_type": "code",
   "execution_count": 42,
   "metadata": {
    "collapsed": true
   },
   "outputs": [],
   "source": [
    "# convert an array of values into a dataset matrix\n",
    "def create_dataset(price, look_back=1):\n",
    "    X = []\n",
    "    for i in range(look_back):\n",
    "        X.append(price[i : i + len(price) - look_back])\n",
    "    X.append(price[look_back: len(price)])\n",
    "    return X"
   ]
  },
  {
   "cell_type": "code",
   "execution_count": 43,
   "metadata": {
    "collapsed": true
   },
   "outputs": [],
   "source": [
    "# reshape into X=t and Y=t+1\n",
    "look_back = 1\n",
    "train = create_dataset(train, look_back)\n",
    "test = create_dataset(test, look_back)"
   ]
  },
  {
   "cell_type": "code",
   "execution_count": 44,
   "metadata": {
    "collapsed": true
   },
   "outputs": [],
   "source": [
    "trainX = train[0]\n",
    "trainY = train[1]\n",
    "testX = test[0]\n",
    "testY = test[1]"
   ]
  },
  {
   "cell_type": "code",
   "execution_count": 45,
   "metadata": {
    "collapsed": true
   },
   "outputs": [],
   "source": [
    "# reshape input to be [samples, time steps, features]\n",
    "trainX = np.reshape(trainX, (trainX.shape[0], 1, trainX.shape[1]))\n",
    "testX = np.reshape(testX, (testX.shape[0], 1, testX.shape[1]))"
   ]
  },
  {
   "cell_type": "code",
   "execution_count": 46,
   "metadata": {},
   "outputs": [
    {
     "name": "stdout",
     "output_type": "stream",
     "text": [
      "Epoch 1/10\n",
      " - 1s - loss: 0.0197\n",
      "Epoch 2/10\n",
      " - 0s - loss: 0.0101\n",
      "Epoch 3/10\n",
      " - 0s - loss: 0.0052\n",
      "Epoch 4/10\n",
      " - 0s - loss: 0.0015\n",
      "Epoch 5/10\n",
      " - 1s - loss: 2.5680e-04\n",
      "Epoch 6/10\n",
      " - 0s - loss: 1.3450e-04\n",
      "Epoch 7/10\n",
      " - 1s - loss: 1.3062e-04\n",
      "Epoch 8/10\n",
      " - 1s - loss: 1.2948e-04\n",
      "Epoch 9/10\n",
      " - 1s - loss: 1.2666e-04\n",
      "Epoch 10/10\n",
      " - 0s - loss: 1.2624e-04\n"
     ]
    },
    {
     "data": {
      "text/plain": [
       "<keras.callbacks.History at 0x12b712e10>"
      ]
     },
     "execution_count": 46,
     "metadata": {},
     "output_type": "execute_result"
    }
   ],
   "source": [
    "# create and fit the LSTM network\n",
    "model = Sequential()\n",
    "model.add(LSTM(10, input_shape=(1, look_back)))\n",
    "model.add(Dense(1))\n",
    "model.compile(loss='mean_squared_error', optimizer='adam')\n",
    "model.fit(trainX, trainY, epochs=10, batch_size=8, verbose=2)"
   ]
  },
  {
   "cell_type": "code",
   "execution_count": 47,
   "metadata": {
    "collapsed": true
   },
   "outputs": [],
   "source": [
    "# make predictions\n",
    "trainPredict = model.predict(trainX)\n",
    "testPredict = model.predict(testX)"
   ]
  },
  {
   "cell_type": "code",
   "execution_count": 48,
   "metadata": {},
   "outputs": [
    {
     "name": "stdout",
     "output_type": "stream",
     "text": [
      "Train Score: 0.01 RMSE\n",
      "Test Score: 1.32 RMSE\n"
     ]
    }
   ],
   "source": [
    "# calculate root mean squared error\n",
    "trainScore = np.sqrt(mean_squared_error(trainY, trainPredict))\n",
    "print('Train Score: %.2f RMSE' % (trainScore))\n",
    "testScore = np.sqrt(mean_squared_error(testY, testPredict))\n",
    "print('Test Score: %.2f RMSE' % (testScore))"
   ]
  },
  {
   "cell_type": "code",
   "execution_count": null,
   "metadata": {
    "collapsed": true
   },
   "outputs": [],
   "source": []
  }
 ],
 "metadata": {
  "kernelspec": {
   "display_name": "Python 3",
   "language": "python",
   "name": "python3"
  },
  "language_info": {
   "codemirror_mode": {
    "name": "ipython",
    "version": 3
   },
   "file_extension": ".py",
   "mimetype": "text/x-python",
   "name": "python",
   "nbconvert_exporter": "python",
   "pygments_lexer": "ipython3",
   "version": "3.6.1"
  }
 },
 "nbformat": 4,
 "nbformat_minor": 2
}

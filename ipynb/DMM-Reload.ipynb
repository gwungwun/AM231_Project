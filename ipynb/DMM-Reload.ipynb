{
 "cells": [
  {
   "cell_type": "markdown",
   "metadata": {},
   "source": [
    "## Model Checkpoints\n",
    "After running the notebook `DMM-Setup.ipynb`, the folder `chkpt-ipython` should now be filled with checkpoint files."
   ]
  },
  {
   "cell_type": "code",
   "execution_count": 1,
   "metadata": {},
   "outputs": [
    {
     "name": "stderr",
     "output_type": "stream",
     "text": [
      "/Users/shiyunqiu/miniconda3/envs/myenv/lib/python2.7/site-packages/h5py/__init__.py:36: FutureWarning: Conversion of the second argument of issubdtype from `float` to `np.floating` is deprecated. In future, it will be treated as `np.float64 == np.dtype(float).type`.\n",
      "  from ._conv import register_converters as _register_converters\n"
     ]
    }
   ],
   "source": [
    "import os\n",
    "import numpy as np\n",
    "import sys\n",
    "sys.path.append('/Users/shiyunqiu/dmm/')\n",
    "from utils.misc import loadHDF5\n",
    "assert os.path.exists('chkpt-ipython/'),'Run the notebook DMM-Setup.ipynb first'"
   ]
  },
  {
   "cell_type": "code",
   "execution_count": 2,
   "metadata": {},
   "outputs": [
    {
     "name": "stdout",
     "output_type": "stream",
     "text": [
      "chkpt-ipython/DMM_lr-0_0008-dh-20-ds-2-nl-relu-bs-200-ep-40-rs-40-rd-0_1-infm-R-tl-2-el-2-ar-2_0-use_p-approx-rc-lstm-uid-EP0-optParams.npz\r\n",
      "chkpt-ipython/DMM_lr-0_0008-dh-20-ds-2-nl-relu-bs-200-ep-40-rs-40-rd-0_1-infm-R-tl-2-el-2-ar-2_0-use_p-approx-rc-lstm-uid-EP0-params.npz\r\n",
      "chkpt-ipython/DMM_lr-0_0008-dh-20-ds-2-nl-relu-bs-200-ep-40-rs-40-rd-0_1-infm-R-tl-2-el-2-ar-2_0-use_p-approx-rc-lstm-uid-EP0-stats.h5\r\n",
      "chkpt-ipython/DMM_lr-0_0008-dh-20-ds-2-nl-relu-bs-200-ep-40-rs-40-rd-0_1-infm-R-tl-2-el-2-ar-2_0-use_p-approx-rc-lstm-uid-EP10-optParams.npz\r\n",
      "chkpt-ipython/DMM_lr-0_0008-dh-20-ds-2-nl-relu-bs-200-ep-40-rs-40-rd-0_1-infm-R-tl-2-el-2-ar-2_0-use_p-approx-rc-lstm-uid-EP10-params.npz\r\n",
      "chkpt-ipython/DMM_lr-0_0008-dh-20-ds-2-nl-relu-bs-200-ep-40-rs-40-rd-0_1-infm-R-tl-2-el-2-ar-2_0-use_p-approx-rc-lstm-uid-EP10-stats.h5\r\n",
      "chkpt-ipython/DMM_lr-0_0008-dh-20-ds-2-nl-relu-bs-200-ep-40-rs-40-rd-0_1-infm-R-tl-2-el-2-ar-2_0-use_p-approx-rc-lstm-uid-EP20-optParams.npz\r\n",
      "chkpt-ipython/DMM_lr-0_0008-dh-20-ds-2-nl-relu-bs-200-ep-40-rs-40-rd-0_1-infm-R-tl-2-el-2-ar-2_0-use_p-approx-rc-lstm-uid-EP20-params.npz\r\n",
      "chkpt-ipython/DMM_lr-0_0008-dh-20-ds-2-nl-relu-bs-200-ep-40-rs-40-rd-0_1-infm-R-tl-2-el-2-ar-2_0-use_p-approx-rc-lstm-uid-EP20-stats.h5\r\n",
      "chkpt-ipython/DMM_lr-0_0008-dh-20-ds-2-nl-relu-bs-200-ep-40-rs-40-rd-0_1-infm-R-tl-2-el-2-ar-2_0-use_p-approx-rc-lstm-uid-EP30-optParams.npz\r\n",
      "chkpt-ipython/DMM_lr-0_0008-dh-20-ds-2-nl-relu-bs-200-ep-40-rs-40-rd-0_1-infm-R-tl-2-el-2-ar-2_0-use_p-approx-rc-lstm-uid-EP30-params.npz\r\n",
      "chkpt-ipython/DMM_lr-0_0008-dh-20-ds-2-nl-relu-bs-200-ep-40-rs-40-rd-0_1-infm-R-tl-2-el-2-ar-2_0-use_p-approx-rc-lstm-uid-EP30-stats.h5\r\n",
      "chkpt-ipython/DMM_lr-0_0008-dh-20-ds-2-nl-relu-bs-200-ep-40-rs-40-rd-0_1-infm-R-tl-2-el-2-ar-2_0-use_p-approx-rc-lstm-uid-config.pkl\r\n"
     ]
    }
   ],
   "source": [
    "ls chkpt-ipython/*ep-40*"
   ]
  },
  {
   "cell_type": "markdown",
   "metadata": {},
   "source": [
    "* There are three different file types of note: \n",
    "    * `prefix-EP<#>-params.npz` : Contains the parameters of the model (weight matrices)     \n",
    "    * `prefix-EP<#>-optParams.npz` : Contains the parameters corresponding to the optimization process (for ADAM, it contains the momentum variables for the model parameters)\n",
    "    * With the above two files, along with the setup for the computational flow graph in `model/dmm.py`, we can restore a model to its setting at Epoch `<#>`\n",
    "    * `prefix-EP<#>-stats.h5` : Contains statistics (such as the bound evaluated on validation data) calculated at training time. \n",
    "* Lets look at each kind of file and see whats in it. "
   ]
  },
  {
   "cell_type": "markdown",
   "metadata": {},
   "source": [
    "### Probing Model Parameters\n",
    "The model parameters can be loaded and investigated as follows. The save file contains a `dict` whose key is the name of the paramter as created in `model_th/dmm.py`."
   ]
  },
  {
   "cell_type": "code",
   "execution_count": 3,
   "metadata": {},
   "outputs": [
    {
     "name": "stdout",
     "output_type": "stream",
     "text": [
      "opt_v_q_W_st (2, 40)\n",
      "opt_i ()\n",
      "opt_m_q_W_st (2, 40)\n",
      "opt_m_p_emis_b_out (2,)\n",
      "opt_v_p_trans_W_0 (2, 20)\n",
      "opt_v_p_trans_W_1 (20, 20)\n",
      "opt_m_q_b_cov (2,)\n",
      "opt_m_q_W_input_0 (1, 40)\n",
      "opt_v_p_emis_b_1 (20,)\n",
      "opt_v_p_emis_b_out (2,)\n",
      "opt_v_p_trans_b_1 (20,)\n",
      "opt_v_q_W_cov (40, 2)\n",
      "opt_m_W_lstm_r (40, 160)\n",
      "opt_v_b_lstm_r (160,)\n",
      "opt_m_p_trans_W_1 (20, 20)\n",
      "opt_v_p_trans_b_cov (2,)\n",
      "opt_m_q_W_cov (40, 2)\n",
      "opt_v_q_b_mu (2,)\n",
      "opt_m_p_trans_W_mu (20, 2)\n",
      "opt_m_p_trans_W_0 (2, 20)\n",
      "opt_v_q_b_input_0 (40,)\n",
      "opt_m_p_emis_W_0 (2, 20)\n",
      "opt_m_p_emis_W_1 (20, 20)\n",
      "opt_v_p_trans_W_mu (20, 2)\n",
      "opt_v_p_trans_b_mu (2,)\n",
      "opt_v_q_b_cov (2,)\n",
      "opt_m_b_lstm_r (160,)\n",
      "opt_v_p_trans_W_cov (20, 2)\n",
      "opt_m_p_trans_W_cov (20, 2)\n",
      "opt_v_p_emis_W_out (20, 2)\n",
      "opt_v_W_lstm_r (40, 160)\n",
      "opt_v_q_b_st (40,)\n",
      "opt_v_p_emis_W_1 (20, 20)\n",
      "opt_v_p_emis_W_0 (2, 20)\n",
      "opt_m_p_trans_b_cov (2,)\n",
      "opt_v_p_emis_b_0 (20,)\n",
      "opt_m_p_trans_b_0 (20,)\n",
      "opt_m_p_trans_b_1 (20,)\n",
      "opt_m_q_W_mu (40, 2)\n",
      "opt_v_q_W_mu (40, 2)\n",
      "opt_m_p_trans_b_mu (2,)\n",
      "opt_v_q_W_input_0 (1, 40)\n",
      "opt_m_p_emis_b_1 (20,)\n",
      "opt_m_p_emis_b_0 (20,)\n",
      "opt_m_p_emis_W_out (20, 2)\n",
      "opt_m_q_b_st (40,)\n",
      "opt_m_U_lstm_r (40, 160)\n",
      "opt_m_q_b_input_0 (40,)\n",
      "opt_v_U_lstm_r (40, 160)\n",
      "opt_m_q_b_mu (2,)\n",
      "opt_v_p_trans_b_0 (20,)\n"
     ]
    }
   ],
   "source": [
    "opt_params = np.load('./chkpt-ipython/DMM_lr-0_0008-dh-20-ds-2-nl-relu-bs-200-ep-40-rs-40-rd-0_1-infm-R-tl-2-el-2-ar-2_0-use_p-approx-rc-lstm-uid-EP30-optParams.npz')\n",
    "for k in opt_params: \n",
    "    print k, opt_params[k].shape"
   ]
  },
  {
   "cell_type": "code",
   "execution_count": 4,
   "metadata": {},
   "outputs": [
    {
     "name": "stdout",
     "output_type": "stream",
     "text": [
      "p_trans_b_cov (2,)\n",
      "q_W_cov (40, 2)\n",
      "p_emis_W_0 (2, 20)\n",
      "p_emis_W_1 (20, 20)\n",
      "q_b_st (40,)\n",
      "q_W_input_0 (1, 40)\n",
      "q_W_st (2, 40)\n",
      "q_b_input_0 (40,)\n",
      "b_lstm_r (160,)\n",
      "p_emis_W_out (20, 2)\n",
      "p_trans_b_0 (20,)\n",
      "p_trans_b_1 (20,)\n",
      "p_trans_b_mu (2,)\n",
      "q_b_mu (2,)\n",
      "lr ()\n",
      "anneal ()\n",
      "p_emis_b_1 (20,)\n",
      "p_emis_b_0 (20,)\n",
      "p_trans_W_mu (20, 2)\n",
      "update_ctr ()\n",
      "W_lstm_r (40, 160)\n",
      "q_W_mu (40, 2)\n",
      "U_lstm_r (40, 160)\n",
      "q_b_cov (2,)\n",
      "p_emis_b_out (2,)\n",
      "p_trans_W_cov (20, 2)\n",
      "p_trans_W_1 (20, 20)\n",
      "p_trans_W_0 (2, 20)\n"
     ]
    }
   ],
   "source": [
    "opt_params = np.load('./chkpt-ipython/DMM_lr-0_0008-dh-20-ds-2-nl-relu-bs-200-ep-40-rs-40-rd-0_1-infm-R-tl-2-el-2-ar-2_0-use_p-approx-rc-lstm-uid-EP30-params.npz')\n",
    "for k in opt_params: \n",
    "    print k, opt_params[k].shape"
   ]
  },
  {
   "cell_type": "code",
   "execution_count": 5,
   "metadata": {},
   "outputs": [
    {
     "name": "stdout",
     "output_type": "stream",
     "text": [
      "\t\t< importing DMM > took  2.36024308205   seconds\n"
     ]
    }
   ],
   "source": [
    "import glob, os, sys, time\n",
    "from utils.misc import getConfigFile, readPickle, displayTime\n",
    "start_time = time.time()\n",
    "from   model_th.dmm import DMM\n",
    "import model_th.learning as DMM_learn\n",
    "import model_th.evaluate as DMM_evaluate\n",
    "displayTime('importing DMM',start_time, time.time())"
   ]
  },
  {
   "cell_type": "markdown",
   "metadata": {},
   "source": [
    "### Reloading models from a checkpoint\n",
    "To reload a model using the saved checkpoint files, we need: \n",
    "    * The hyperparameters to rebuild the model \n",
    "    * The settings for the weight matrices that comprise the model parameters. \n",
    "* There is a `prefix` which defines the identifier for a checkpoint. The prefix is set at model creation using the unique identifier for the model. "
   ]
  },
  {
   "cell_type": "code",
   "execution_count": 6,
   "metadata": {},
   "outputs": [
    {
     "name": "stdout",
     "output_type": "stream",
     "text": [
      "Hyperparameters in:  ./chkpt-ipython/DMM_lr-0_0008-dh-20-ds-2-nl-relu-bs-200-ep-40-rs-40-rd-0_1-infm-R-tl-2-el-2-ar-2_0-use_p-approx-rc-lstm-uid-config.pkl Found:  True\n"
     ]
    }
   ],
   "source": [
    "#This is the prefix we will use\n",
    "DIR    = './chkpt-ipython/'\n",
    "prefix = 'DMM_lr-0_0008-dh-20-ds-2-nl-relu-bs-200-ep-40-rs-40-rd-0_1-infm-R-tl-2-el-2-ar-2_0-use_p-approx-rc-lstm-uid'\n",
    "pfile  =  os.path.join(DIR,prefix+'-config.pkl')\n",
    "print 'Hyperparameters in: ',pfile, 'Found: ',os.path.exists(pfile)"
   ]
  },
  {
   "cell_type": "code",
   "execution_count": 7,
   "metadata": {},
   "outputs": [],
   "source": [
    "#The hyperparameters are saved in a pickle file - lets load them here\n",
    "params = readPickle(pfile, quiet=True)[0]"
   ]
  },
  {
   "cell_type": "code",
   "execution_count": 8,
   "metadata": {},
   "outputs": [
    {
     "name": "stdout",
     "output_type": "stream",
     "text": [
      "Model parameters in:  ./chkpt-ipython/DMM_lr-0_0008-dh-20-ds-2-nl-relu-bs-200-ep-40-rs-40-rd-0_1-infm-R-tl-2-el-2-ar-2_0-use_p-approx-rc-lstm-uid-EP30-params.npz\n",
      "\t<<Reloading Model>>\n",
      "\t<<Loading structure (./chkpt-ipython/DMM_lr-0_0008-dh-20-ds-2-nl-relu-bs-200-ep-40-rs-40-rd-0_1-infm-R-tl-2-el-2-ar-2_0-use_p-approx-rc-lstm-uid-config.pkl) and model (./chkpt-ipython/DMM_lr-0_0008-dh-20-ds-2-nl-relu-bs-200-ep-40-rs-40-rd-0_1-infm-R-tl-2-el-2-ar-2_0-use_p-approx-rc-lstm-uid-EP30-params.npz) / opt (./chkpt-ipython/DMM_lr-0_0008-dh-20-ds-2-nl-relu-bs-200-ep-40-rs-40-rd-0_1-infm-R-tl-2-el-2-ar-2_0-use_p-approx-rc-lstm-uid-EP30-optParams.npz) weights>>\n",
      "Adding/Modifying loaded parameters:  validate_only  to  True\n",
      "\t<<Nparameters: 14413>>\n"
     ]
    },
    {
     "name": "stderr",
     "output_type": "stream",
     "text": [
      "/Users/shiyunqiu/dmm/models/__init__.py:201: UserWarning: lr found in npWeights. No action taken\n",
      "  warnings.warn(name+\" found in npWeights. No action taken\")\n",
      "/Users/shiyunqiu/dmm/models/__init__.py:201: UserWarning: anneal found in npWeights. No action taken\n",
      "  warnings.warn(name+\" found in npWeights. No action taken\")\n",
      "/Users/shiyunqiu/dmm/models/__init__.py:201: UserWarning: update_ctr found in npWeights. No action taken\n",
      "  warnings.warn(name+\" found in npWeights. No action taken\")\n"
     ]
    },
    {
     "name": "stdout",
     "output_type": "stream",
     "text": [
      "\t<<Anneal = 1 in 2.0 param. updates>>\n",
      "\t<<Building with RNN dropout:0.0>>\n",
      "\t<<In _LSTM_RNN_layer with dropout 0.0000>>\n",
      "\t<<Completed DMM setup>>\n",
      "\t<<_buildModel took : 65.5240 seconds>>\n"
     ]
    }
   ],
   "source": [
    "#Reload the model at Epoch 30\n",
    "EP     = '-EP30'\n",
    "#File containing model paramters\n",
    "reloadFile  =  os.path.join(DIR,prefix+EP+'-params.npz')\n",
    "print 'Model parameters in: ',reloadFile\n",
    "#Don't load the training functions for the model since its time consuming\n",
    "params['validate_only'] = True\n",
    "dmm_reloaded  = DMM(params, paramFile = pfile, reloadFile = reloadFile)"
   ]
  },
  {
   "cell_type": "code",
   "execution_count": 9,
   "metadata": {},
   "outputs": [
    {
     "name": "stdout",
     "output_type": "stream",
     "text": [
      "Model Reloaded:  <class 'model_th.dmm.DMM'>\n"
     ]
    }
   ],
   "source": [
    "print 'Model Reloaded: ',type(dmm_reloaded)"
   ]
  },
  {
   "cell_type": "code",
   "execution_count": null,
   "metadata": {},
   "outputs": [],
   "source": []
  }
 ],
 "metadata": {
  "kernelspec": {
   "display_name": "Python 2",
   "language": "python",
   "name": "python2"
  },
  "language_info": {
   "codemirror_mode": {
    "name": "ipython",
    "version": 2
   },
   "file_extension": ".py",
   "mimetype": "text/x-python",
   "name": "python",
   "nbconvert_exporter": "python",
   "pygments_lexer": "ipython2",
   "version": "2.7.14"
  }
 },
 "nbformat": 4,
 "nbformat_minor": 2
}

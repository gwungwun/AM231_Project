{
 "cells": [
  {
   "cell_type": "code",
   "execution_count": 2,
   "metadata": {
    "collapsed": true
   },
   "outputs": [],
   "source": [
    "import numpy as np\n",
    "import pandas as pd \n",
    "import matplotlib.pyplot as plt\n",
    "import seaborn as sns\n",
    "sns.set_style(\"whitegrid\")\n",
    "sns.set_context(\"poster\")\n",
    "color = sns.color_palette()\n",
    "%matplotlib inline"
   ]
  },
  {
   "cell_type": "code",
   "execution_count": 3,
   "metadata": {
    "collapsed": true
   },
   "outputs": [],
   "source": [
    "x = 0\n",
    "T = 1000\n",
    "y = []\n",
    "for t in range(T):\n",
    "    x = np.random.normal(x, 0.05)\n",
    "    y.append(np.random.normal(x, 0.5))\n",
    "y = np.array(y)"
   ]
  },
  {
   "cell_type": "code",
   "execution_count": 4,
   "metadata": {},
   "outputs": [
    {
     "data": {
      "text/plain": [
       "[<matplotlib.lines.Line2D at 0x114b07ac8>]"
      ]
     },
     "execution_count": 4,
     "metadata": {},
     "output_type": "execute_result"
    },
    {
     "data": {
      "image/png": "[encoded data removed]",
      "text/plain": [
       "<matplotlib.figure.Figure at 0x1088ac518>"
      ]
     },
     "metadata": {},
     "output_type": "display_data"
    }
   ],
   "source": [
    "plt.plot(y)"
   ]
  },
  {
   "cell_type": "code",
   "execution_count": 5,
   "metadata": {
    "collapsed": true
   },
   "outputs": [],
   "source": [
    "def kalman_filter(y, sigma_eps, sigma_gamma, mu_init, sigma_init):\n",
    "    T = len(y)\n",
    "    mu = [mu_init]\n",
    "    sigma = [sigma_init]\n",
    "    for t in range(T):\n",
    "        sigma.append(1 / (sigma[-1] + sigma_eps) + 1 / sigma_gamma)\n",
    "        mu.append(mu[-1] + (sigma_eps + sigma[-1]) / (sigma_eps + sigma[-1] + sigma_gamma)*(y[t] -  mu[-1]))\n",
    "        \n",
    "    return mu, sigma"
   ]
  },
  {
   "cell_type": "code",
   "execution_count": 6,
   "metadata": {
    "collapsed": true
   },
   "outputs": [],
   "source": [
    "def kalman_smoother(y, x_filter, sigma_filter, sigma_eps, sigma_gamma):\n",
    "    T = len(y)\n",
    "    mu = [x_filter[-1]]\n",
    "    sigma = [sigma_filter[-1]]\n",
    "    for t in range(1, T + 1):\n",
    "        mu.append(x_filter[T - t] + sigma_filter[T - t]/(sigma_filter[T - t] + sigma_eps) * (mu[-1] - x_filter[T - t]))\n",
    "        sigma.append((sigma_filter[T - t]/(sigma_filter[T - t] + sigma_eps))**2 * sigma[-1] + sigma_filter[T-t]/(sigma_filter[T - t] + sigma_eps) * sigma_eps)\n",
    "    return mu, sigma"
   ]
  },
  {
   "cell_type": "code",
   "execution_count": 7,
   "metadata": {
    "collapsed": true
   },
   "outputs": [],
   "source": [
    "def E_step(y, sigma_eps, sigma_gamma, mu_init, sigma_init):\n",
    "    x_filter, sigma_filter = kalman_filter(y, sigma_eps, sigma_gamma, mu_init, sigma_init)\n",
    "    x_smoother, sigma_smoother = kalman_smoother(y, x_filter, sigma_filter, sigma_eps, sigma_gamma)\n",
    "    \n",
    "    return x_smoother[::-1], x_smoother[0], sigma_smoother, sigma_filter"
   ]
  },
  {
   "cell_type": "code",
   "execution_count": 14,
   "metadata": {},
   "outputs": [],
   "source": [
    "def M_step(y, x_smoother, sigma_smoother, sigma_filter, sigma_eps_old):\n",
    "    T = len(y)\n",
    "#     sigma_eps = sum((x_smoother[1:] - x_smoother[:T]) ** 2)/T\n",
    "#     sigma_gamma = sum((y - x_smoother[1:])**2)/(T + 1)\n",
    "\n",
    "    W = x_smoother ** 2 + sigma_smoother\n",
    "    W_cov = x_smoother[1:] * x_smoother[:T] \\\n",
    "            + sigma_filter[:T]/(sigma_filter[:T] + sigma_eps_old) * sigma_smoother[1:]\n",
    "    \n",
    "    sigma_eps = sum(W[1:] + W[:T] - 2 * W_cov)/T\n",
    "    sigma_gamma = sum(y ** 2 + x_smoother[1:]**2 + sigma_smoother[1:] - 2 * y * x_smoother[1:])/(T + 1)\n",
    "    \n",
    "    return sigma_eps, sigma_gamma"
   ]
  },
  {
   "cell_type": "code",
   "execution_count": 32,
   "metadata": {
    "collapsed": true
   },
   "outputs": [],
   "source": [
    "def EM(y):\n",
    "    sigma_eps_old = 0.03\n",
    "    sigma_gamma_old = 0.3\n",
    "    sigma_eps = 0.04\n",
    "    sigma_gamma = 0.4\n",
    "    mu_init = y[0]\n",
    "    sigma_init = 0.05\n",
    "    sigma_eps_ls = []\n",
    "    sigma_gamma_ls = []\n",
    "    while np.abs(sigma_eps_old - sigma_eps) > 1e-6 or np.abs(sigma_gamma_old - sigma_gamma) > 1e-6:\n",
    "        sigma_eps_old = sigma_eps\n",
    "        sigma_gamma_old = sigma_gamma\n",
    "        x_smoother,mu_init,sigma_smoother, sigma_filter = E_step(y, sigma_eps, sigma_gamma, mu_init, sigma_init)\n",
    "        sigma_eps, sigma_gamma = M_step(y, np.array(x_smoother), np.array(sigma_smoother), np.array(sigma_filter), sigma_eps_old)\n",
    "        sigma_eps_ls.append(sigma_eps)\n",
    "        sigma_gamma_ls.append(sigma_gamma)\n",
    "    \n",
    "    return x_smoother, sigma_eps_ls, sigma_gamma_ls"
   ]
  },
  {
   "cell_type": "code",
   "execution_count": 33,
   "metadata": {},
   "outputs": [],
   "source": [
    "x_smoother, sigma_eps_ls, sigma_gamma_ls = EM(y)"
   ]
  },
  {
   "cell_type": "code",
   "execution_count": 34,
   "metadata": {},
   "outputs": [
    {
     "data": {
      "text/plain": [
       "[<matplotlib.lines.Line2D at 0x115132f60>]"
      ]
     },
     "execution_count": 34,
     "metadata": {},
     "output_type": "execute_result"
    },
    {
     "data": {
      "image/png": "[encoded data removed]",
      "text/plain": [
       "<matplotlib.figure.Figure at 0x114dac6a0>"
      ]
     },
     "metadata": {},
     "output_type": "display_data"
    }
   ],
   "source": [
    "plt.plot(sigma_gamma_ls)"
   ]
  },
  {
   "cell_type": "code",
   "execution_count": 35,
   "metadata": {},
   "outputs": [
    {
     "data": {
      "text/plain": [
       "[0.045892405380461625,\n",
       " 0.048649419276404204,\n",
       " 0.0520397496823779,\n",
       " 0.05523661425690402,\n",
       " 0.05849660564212511,\n",
       " 0.06170986866650451,\n",
       " 0.06490145691070741,\n",
       " 0.06804969201037706,\n",
       " 0.07115057749245858,\n",
       " 0.07419476714553591,\n",
       " 0.07717587829415481,\n",
       " 0.08008752602656435,\n",
       " 0.08292440687573989,\n",
       " 0.08568190096198876,\n",
       " 0.0883561963529507,\n",
       " 0.09094421072144473,\n",
       " 0.09344357601984246,\n",
       " 0.09585259148131536,\n",
       " 0.0981701814851001,\n",
       " 0.10039584680713289,\n",
       " 0.10252961515357159,\n",
       " 0.10457199034339086,\n",
       " 0.10652390170668925,\n",
       " 0.10838665426923062,\n",
       " 0.11016188047078186,\n",
       " 0.11185149392036299,\n",
       " 0.11345764561282103,\n",
       " 0.11498268290573402,\n",
       " 0.11642911146297295,\n",
       " 0.11779956028308237,\n",
       " 0.11909674985751291,\n",
       " 0.12032346344147668,\n",
       " 0.12148252136953192,\n",
       " 0.12257675830762811,\n",
       " 0.12360900330241188,\n",
       " 0.12458206246602521,\n",
       " 0.1254987041193493,\n",
       " 0.12636164620758691,\n",
       " 0.1271735457982379,\n",
       " 0.12793699047195123,\n",
       " 0.12865449142058502,\n",
       " 0.12932847807329523,\n",
       " 0.12996129407995313,\n",
       " 0.1305551944910652,\n",
       " 0.1311123439841564,\n",
       " 0.1316348159978843,\n",
       " 0.13212459264662132,\n",
       " 0.13258356529964865,\n",
       " 0.13301353572020988,\n",
       " 0.1334162176703494,\n",
       " 0.13379323889758024,\n",
       " 0.1341461434289322,\n",
       " 0.13447639410676196,\n",
       " 0.13478537530885795,\n",
       " 0.13507439580282601,\n",
       " 0.1353446916915237,\n",
       " 0.13559742941243638,\n",
       " 0.13583370875939088,\n",
       " 0.1360545658999158,\n",
       " 0.13626097636592377,\n",
       " 0.13645385799925736,\n",
       " 0.13663407383702644,\n",
       " 0.1368024349246431,\n",
       " 0.1369597030470439,\n",
       " 0.13710659337083164,\n",
       " 0.13724377699199222,\n",
       " 0.13737188338550482,\n",
       " 0.13749150275455635,\n",
       " 0.1376031882782673,\n",
       " 0.13770745825782893,\n",
       " 0.1378047981617749,\n",
       " 0.13789566257179653,\n",
       " 0.13798047703105507,\n",
       " 0.13805963979738703,\n",
       " 0.1381335235041484,\n",
       " 0.1382024767316952,\n",
       " 0.13826682549269706,\n",
       " 0.1383268746346156,\n",
       " 0.13838290916274895,\n",
       " 0.13843519548729954,\n",
       " 0.1384839825979131,\n",
       " 0.13852950316911858,\n",
       " 0.13857197460005036,\n",
       " 0.1386115999917629,\n",
       " 0.138648569065372,\n",
       " 0.13868305902415087,\n",
       " 0.13871523536261943,\n",
       " 0.1387452526255442,\n",
       " 0.13877325511965846,\n",
       " 0.13879937758079214,\n",
       " 0.13882374579898196,\n",
       " 0.1388464772040202,\n",
       " 0.1388676814137742,\n",
       " 0.13888746074750088,\n",
       " 0.13890591070626584,\n",
       " 0.1389231204224606,\n",
       " 0.13893917308031625,\n",
       " 0.13895414630919803,\n",
       " 0.1389681125513717,\n",
       " 0.1389811394058362,\n",
       " 0.13899328994972684,\n",
       " 0.1390046230387014,\n",
       " 0.13901519358764639,\n",
       " 0.13902505283295485,\n",
       " 0.13903424857755411,\n",
       " 0.13904282541979276,\n",
       " 0.13905082496722482,\n",
       " 0.13905828603626694,\n",
       " 0.13906524483864702,\n",
       " 0.1390717351554996,\n",
       " 0.1390777884999152,\n",
       " 0.1390834342686958,\n",
       " 0.13908869988402417,\n",
       " 0.13909361092570957,\n",
       " 0.1390981912546258,\n",
       " 0.13910246312792576,\n",
       " 0.13910644730656943,\n",
       " 0.1391101631556794,\n",
       " 0.13911362873819177,\n",
       " 0.1391168609022494,\n",
       " 0.13911987536275477,\n",
       " 0.13912268677746334,\n",
       " 0.13912530881798654,\n",
       " 0.13912775423604168,\n",
       " 0.13913003492526027,\n",
       " 0.13913216197885778,\n",
       " 0.13913414574343566,\n",
       " 0.13913599586917458,\n",
       " 0.1391377213566622,\n",
       " 0.1391393306005775,\n",
       " 0.1391408314304436,\n",
       " 0.13914223114864277,\n",
       " 0.13914353656588127,\n",
       " 0.13914475403426851,\n",
       " 0.13914588947817633,\n",
       " 0.13914694842302394,\n",
       " 0.13914793602212752]"
      ]
     },
     "execution_count": 35,
     "metadata": {},
     "output_type": "execute_result"
    }
   ],
   "source": [
    "sigma_eps_ls"
   ]
  },
  {
   "cell_type": "code",
   "execution_count": 36,
   "metadata": {},
   "outputs": [
    {
     "data": {
      "text/plain": [
       "[1.8190777694574654,\n",
       " 0.9361346609985466,\n",
       " 1.1355377466951193,\n",
       " 1.0560835279352487,\n",
       " 1.0796461177287238,\n",
       " 1.068732462555058,\n",
       " 1.0701024669198782,\n",
       " 1.0674283380173106,\n",
       " 1.0663463020996713,\n",
       " 1.0648740758302093,\n",
       " 1.063685311256087,\n",
       " 1.06253008192218,\n",
       " 1.061483067462577,\n",
       " 1.0605070041075135,\n",
       " 1.0596052321748164,\n",
       " 1.058767985092039,\n",
       " 1.057991076916483,\n",
       " 1.057269183245107,\n",
       " 1.056598089850429,\n",
       " 1.0559738011529156,\n",
       " 1.055392773937086,\n",
       " 1.054851766763922,\n",
       " 1.0543478363813386,\n",
       " 1.053878290952337,\n",
       " 1.053440665924025,\n",
       " 1.0530326978703222,\n",
       " 1.0526523040323281,\n",
       " 1.0522975639610153,\n",
       " 1.051966703854786,\n",
       " 1.051658082818151,\n",
       " 1.051370180856874,\n",
       " 1.0511015882964827,\n",
       " 1.05085099642342,\n",
       " 1.050617189162144,\n",
       " 1.0503990356404913,\n",
       " 1.050195483517994,\n",
       " 1.0500055529734034,\n",
       " 1.0498283312643395,\n",
       " 1.0496629677863016,\n",
       " 1.0495086695693594,\n",
       " 1.0493646971609851,\n",
       " 1.049230360850745,\n",
       " 1.0491050171997063,\n",
       " 1.0489880658423196,\n",
       " 1.0488789465334143,\n",
       " 1.0487771364165175,\n",
       " 1.0486821474928552,\n",
       " 1.0485935242730682,\n",
       " 1.0485108415958415,\n",
       " 1.0484337025994799,\n",
       " 1.048361736834085,\n",
       " 1.0482945985032532,\n",
       " 1.0482319648254395,\n",
       " 1.0481735345060188,\n",
       " 1.048119026311942,\n",
       " 1.0480681777417178,\n",
       " 1.048020743783882,\n",
       " 1.0479764957579387,\n",
       " 1.047935220231991,\n",
       " 1.0478967180119425,\n",
       " 1.0478608031974297,\n",
       " 1.0478273022999574,\n",
       " 1.0477960534192534,\n",
       " 1.0477669054738015,\n",
       " 1.0477397174821566,\n",
       " 1.0477143578915928,\n",
       " 1.0476907039510155,\n",
       " 1.047668641125258,\n",
       " 1.0476480625480247,\n",
       " 1.0476288685109634,\n",
       " 1.0476109659865172,\n",
       " 1.0475942681823254,\n",
       " 1.0475786941251344,\n",
       " 1.0475641682722512,\n",
       " 1.0475506201487848,\n",
       " 1.0475379840089272,\n",
       " 1.0475261985197437,\n",
       " 1.0475152064659712,\n",
       " 1.047504954474446,\n",
       " 1.047495392756872,\n",
       " 1.0474864748697126,\n",
       " 1.0474781574900922,\n",
       " 1.0474704002066288,\n",
       " 1.0474631653242281,\n",
       " 1.0474564176819203,\n",
       " 1.0474501244828316,\n",
       " 1.047444255135562,\n",
       " 1.0474387811061296,\n",
       " 1.0474336757798481,\n",
       " 1.0474289143324285,\n",
       " 1.047424473609729,\n",
       " 1.0474203320155318,\n",
       " 1.0474164694068717,\n",
       " 1.0474128669963636,\n",
       " 1.0474095072610698,\n",
       " 1.0474063738575057,\n",
       " 1.0474034515423192,\n",
       " 1.047400726098323,\n",
       " 1.0473981842654552,\n",
       " 1.0473958136764212,\n",
       " 1.0473936027966098,\n",
       " 1.0473915408680932,\n",
       " 1.047389617857337,\n",
       " 1.0473878244064825,\n",
       " 1.0473861517878487,\n",
       " 1.0473845918615334,\n",
       " 1.0473831370358428,\n",
       " 1.0473817802303862,\n",
       " 1.047380514841666,\n",
       " 1.047379334710951,\n",
       " 1.0473782340943565,\n",
       " 1.0473772076348864,\n",
       " 1.0473762503364006,\n",
       " 1.047375357539309,\n",
       " 1.0473745248979018,\n",
       " 1.047373748359223,\n",
       " 1.0473730241433457,\n",
       " 1.0473723487249822,\n",
       " 1.0473717188163436,\n",
       " 1.047371131351132,\n",
       " 1.0473705834696296,\n",
       " 1.0473700725047848,\n",
       " 1.047369595969221,\n",
       " 1.047369151543149,\n",
       " 1.0473687370630724,\n",
       " 1.0473683505112608,\n",
       " 1.0473679900059212,\n",
       " 1.0473676537920529,\n",
       " 1.0473673402328896,\n",
       " 1.0473670478019717,\n",
       " 1.0473667750756492,\n",
       " 1.0473665207262273,\n",
       " 1.04736628351545,\n",
       " 1.0473660622884973,\n",
       " 1.0473658559683614,\n",
       " 1.0473656635506001,\n",
       " 1.047365484098451]"
      ]
     },
     "execution_count": 36,
     "metadata": {},
     "output_type": "execute_result"
    }
   ],
   "source": [
    "sigma_gamma_ls"
   ]
  },
  {
   "cell_type": "code",
   "execution_count": 38,
   "metadata": {
    "collapsed": true
   },
   "outputs": [],
   "source": [
    "x_filter, sigma_filter = kalman_filter(y, 0.05, 0.5, y[0], 0.05)"
   ]
  },
  {
   "cell_type": "code",
   "execution_count": 39,
   "metadata": {
    "collapsed": true
   },
   "outputs": [],
   "source": [
    "x_smoother,_ = kalman_smoother(y, x_filter, sigma_filter, 0.05, 0.5)"
   ]
  },
  {
   "cell_type": "code",
   "execution_count": null,
   "metadata": {
    "collapsed": true
   },
   "outputs": [],
   "source": []
  },
  {
   "cell_type": "code",
   "execution_count": 87,
   "metadata": {
    "collapsed": true
   },
   "outputs": [],
   "source": [
    "df = pd.read_csv('cryptocurrencypricehistory-daily/bitcoin_price.csv')"
   ]
  },
  {
   "cell_type": "code",
   "execution_count": 88,
   "metadata": {
    "collapsed": true
   },
   "outputs": [],
   "source": [
    "df = df[::-1]"
   ]
  },
  {
   "cell_type": "code",
   "execution_count": 89,
   "metadata": {},
   "outputs": [
    {
     "data": {
      "text/plain": [
       "<matplotlib.axes._subplots.AxesSubplot at 0x1a1ebb1940>"
      ]
     },
     "execution_count": 89,
     "metadata": {},
     "output_type": "execute_result"
    },
    {
     "data": {
      "image/png": "[encoded data removed]",
      "text/plain": [
       "<matplotlib.figure.Figure at 0x1a1eb694a8>"
      ]
     },
     "metadata": {},
     "output_type": "display_data"
    }
   ],
   "source": [
    "df.plot('Date', 'Close', figsize=(20,10))"
   ]
  },
  {
   "cell_type": "code",
   "execution_count": 83,
   "metadata": {
    "collapsed": true
   },
   "outputs": [],
   "source": [
    "price = df.Close.values"
   ]
  },
  {
   "cell_type": "code",
   "execution_count": 203,
   "metadata": {
    "collapsed": true
   },
   "outputs": [],
   "source": [
    "#price_ret = (price[1:] - price[:len(price) - 1]) / price[:len(price) - 1]\n",
    "price_ret = np.log(price)"
   ]
  },
  {
   "cell_type": "code",
   "execution_count": 220,
   "metadata": {
    "collapsed": true
   },
   "outputs": [],
   "source": [
    "x_smoother, sigma_eps_ls, sigma_gamma_ls= EM(price_ret[:1500])"
   ]
  },
  {
   "cell_type": "code",
   "execution_count": 221,
   "metadata": {},
   "outputs": [
    {
     "data": {
      "text/plain": [
       "[2.2381532837862386,\n",
       " 2.8484482522417283,\n",
       " 3.7443712534738443,\n",
       " 3.6827550678762551,\n",
       " 3.6868336902199572,\n",
       " 3.686562744730205,\n",
       " 3.6865807395132872,\n",
       " 3.6865795443749168,\n",
       " 3.686579623750927]"
      ]
     },
     "execution_count": 221,
     "metadata": {},
     "output_type": "execute_result"
    }
   ],
   "source": [
    "sigma_gamma_ls"
   ]
  },
  {
   "cell_type": "markdown",
   "metadata": {},
   "source": [
    "E[exp(X)]=exp(μ+σ2/2)"
   ]
  },
  {
   "cell_type": "code",
   "execution_count": 222,
   "metadata": {},
   "outputs": [
    {
     "data": {
      "text/plain": [
       "[<matplotlib.lines.Line2D at 0x1a26d0d7f0>]"
      ]
     },
     "execution_count": 222,
     "metadata": {},
     "output_type": "execute_result"
    },
    {
     "data": {
      "image/png": "[encoded data removed]",
      "text/plain": [
       "<matplotlib.figure.Figure at 0x1a26280748>"
      ]
     },
     "metadata": {},
     "output_type": "display_data"
    }
   ],
   "source": [
    "plt.plot(x_smoother[1:])"
   ]
  },
  {
   "cell_type": "code",
   "execution_count": 223,
   "metadata": {},
   "outputs": [
    {
     "data": {
      "text/plain": [
       "[<matplotlib.lines.Line2D at 0x1a26df52b0>]"
      ]
     },
     "execution_count": 223,
     "metadata": {},
     "output_type": "execute_result"
    },
    {
     "data": {
      "image/png": "[encoded data removed]",
      "text/plain": [
       "<matplotlib.figure.Figure at 0x1a26639ac8>"
      ]
     },
     "metadata": {},
     "output_type": "display_data"
    }
   ],
   "source": [
    "plt.plot(price_ret)"
   ]
  },
  {
   "cell_type": "code",
   "execution_count": 225,
   "metadata": {
    "collapsed": true
   },
   "outputs": [],
   "source": [
    "x_filter, sigma_filter = kalman_filter(price_ret[:1759], sigma_eps_ls[-1],  sigma_gamma_ls[-1], price_ret[0], sigma_gamma_ls[-1])"
   ]
  },
  {
   "cell_type": "code",
   "execution_count": 226,
   "metadata": {},
   "outputs": [
    {
     "data": {
      "text/plain": [
       "[<matplotlib.lines.Line2D at 0x1a26d43ef0>]"
      ]
     },
     "execution_count": 226,
     "metadata": {},
     "output_type": "execute_result"
    },
    {
     "data": {
      "image/png": "[encoded data removed]",
      "text/plain": [
       "<matplotlib.figure.Figure at 0x1a26d43c50>"
      ]
     },
     "metadata": {},
     "output_type": "display_data"
    }
   ],
   "source": [
    "plt.errorbar(range(len(x_filter)), x_filter, yerr= 2 * np.sqrt(sigma_filter))\n",
    "#plt.plot(price_ret[1000:1010])\n",
    "plt.plot(price_ret[:1760])"
   ]
  },
  {
   "cell_type": "code",
   "execution_count": 246,
   "metadata": {},
   "outputs": [
    {
     "data": {
      "text/plain": [
       "0.072068795165417657"
      ]
     },
     "execution_count": 246,
     "metadata": {},
     "output_type": "execute_result"
    }
   ],
   "source": [
    "np.sqrt(mean_squared_error(price_ret, x_filter))"
   ]
  },
  {
   "cell_type": "code",
   "execution_count": 230,
   "metadata": {},
   "outputs": [
    {
     "name": "stderr",
     "output_type": "stream",
     "text": [
      "Using TensorFlow backend.\n"
     ]
    }
   ],
   "source": [
    "# compare with lstm\n",
    "from keras.models import Sequential\n",
    "from keras.layers import Dense\n",
    "from keras.layers import LSTM\n",
    "from sklearn.preprocessing import MinMaxScaler\n",
    "from sklearn.metrics import mean_squared_error"
   ]
  },
  {
   "cell_type": "code",
   "execution_count": 238,
   "metadata": {
    "collapsed": true
   },
   "outputs": [],
   "source": [
    "# normalize the dataset\n",
    "price_norm = price_ret.reshape(-1, 1)\n",
    "scaler = MinMaxScaler(feature_range=(0, 1))\n",
    "price = scaler.fit_transform(price_norm)"
   ]
  },
  {
   "cell_type": "code",
   "execution_count": 239,
   "metadata": {},
   "outputs": [
    {
     "name": "stdout",
     "output_type": "stream",
     "text": [
      "1500 260\n"
     ]
    }
   ],
   "source": [
    "# split into train and test sets\n",
    "train_size = 1500\n",
    "test_size = len(price) - train_size\n",
    "train, test = price[0:train_size], price[train_size:len(price)]\n",
    "print(len(train), len(test))"
   ]
  },
  {
   "cell_type": "code",
   "execution_count": 240,
   "metadata": {
    "collapsed": true
   },
   "outputs": [],
   "source": [
    "# convert an array of values into a dataset matrix\n",
    "def create_dataset(price, look_back=1):\n",
    "    X = []\n",
    "    for i in range(look_back):\n",
    "        X.append(price[i : i + len(price) - look_back])\n",
    "    X.append(price[look_back: len(price)])\n",
    "    return X"
   ]
  },
  {
   "cell_type": "code",
   "execution_count": 241,
   "metadata": {
    "collapsed": true
   },
   "outputs": [],
   "source": [
    "# reshape into X=t and Y=t+1\n",
    "look_back = 1\n",
    "train = create_dataset(train, look_back)\n",
    "test = create_dataset(test, look_back)"
   ]
  },
  {
   "cell_type": "code",
   "execution_count": 242,
   "metadata": {
    "collapsed": true
   },
   "outputs": [],
   "source": [
    "trainX = train[0]\n",
    "trainY = train[1]\n",
    "testX = test[0]\n",
    "testY = test[1]"
   ]
  },
  {
   "cell_type": "code",
   "execution_count": 243,
   "metadata": {
    "collapsed": true
   },
   "outputs": [],
   "source": [
    "# reshape input to be [samples, time steps, features]\n",
    "trainX = np.reshape(trainX, (trainX.shape[0], 1, trainX.shape[1]))\n",
    "testX = np.reshape(testX, (testX.shape[0], 1, testX.shape[1]))"
   ]
  },
  {
   "cell_type": "code",
   "execution_count": 244,
   "metadata": {},
   "outputs": [
    {
     "name": "stdout",
     "output_type": "stream",
     "text": [
      "Epoch 1/10\n",
      " - 5s - loss: 0.0229\n",
      "Epoch 2/10\n",
      " - 4s - loss: 0.0042\n",
      "Epoch 3/10\n",
      " - 4s - loss: 2.6672e-04\n",
      "Epoch 4/10\n",
      " - 4s - loss: 9.1547e-05\n",
      "Epoch 5/10\n",
      " - 4s - loss: 8.8137e-05\n",
      "Epoch 6/10\n",
      " - 4s - loss: 8.1218e-05\n",
      "Epoch 7/10\n",
      " - 4s - loss: 7.7419e-05\n",
      "Epoch 8/10\n",
      " - 4s - loss: 7.3923e-05\n",
      "Epoch 9/10\n",
      " - 4s - loss: 7.1692e-05\n",
      "Epoch 10/10\n",
      " - 4s - loss: 7.1782e-05\n"
     ]
    },
    {
     "data": {
      "text/plain": [
       "<keras.callbacks.History at 0x1a335ebf98>"
      ]
     },
     "execution_count": 244,
     "metadata": {},
     "output_type": "execute_result"
    }
   ],
   "source": [
    "# create and fit the LSTM network\n",
    "model = Sequential()\n",
    "model.add(LSTM(4, input_shape=(1, look_back)))\n",
    "model.add(Dense(1))\n",
    "model.compile(loss='mean_squared_error', optimizer='adam')\n",
    "model.fit(trainX, trainY, epochs=10, batch_size=1, verbose=2)"
   ]
  },
  {
   "cell_type": "code",
   "execution_count": 247,
   "metadata": {
    "collapsed": true
   },
   "outputs": [],
   "source": [
    "# make predictions\n",
    "trainPredict = model.predict(trainX)\n",
    "testPredict = model.predict(testX)"
   ]
  },
  {
   "cell_type": "code",
   "execution_count": 248,
   "metadata": {},
   "outputs": [
    {
     "name": "stdout",
     "output_type": "stream",
     "text": [
      "Train Score: 0.01 RMSE\n",
      "Test Score: 0.02 RMSE\n"
     ]
    }
   ],
   "source": [
    "# calculate root mean squared error\n",
    "trainScore = np.sqrt(mean_squared_error(trainY, trainPredict))\n",
    "print('Train Score: %.2f RMSE' % (trainScore))\n",
    "testScore = np.sqrt(mean_squared_error(testY, testPredict))\n",
    "print('Test Score: %.2f RMSE' % (testScore))"
   ]
  },
  {
   "cell_type": "code",
   "execution_count": null,
   "metadata": {
    "collapsed": true
   },
   "outputs": [],
   "source": []
  }
 ],
 "metadata": {
  "kernelspec": {
   "display_name": "Python 3",
   "language": "python",
   "name": "python3"
  },
  "language_info": {
   "codemirror_mode": {
    "name": "ipython",
    "version": 3
   },
   "file_extension": ".py",
   "mimetype": "text/x-python",
   "name": "python",
   "nbconvert_exporter": "python",
   "pygments_lexer": "ipython3",
   "version": "3.6.1"
  }
 },
 "nbformat": 4,
 "nbformat_minor": 2
}

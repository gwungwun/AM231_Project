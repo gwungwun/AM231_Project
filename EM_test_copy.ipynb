{
 "cells": [
  {
   "cell_type": "code",
   "execution_count": 2,
   "metadata": {
    "collapsed": true
   },
   "outputs": [],
   "source": [
    "import numpy as np\n",
    "import pandas as pd \n",
    "import matplotlib.pyplot as plt\n",
    "import seaborn as sns\n",
    "sns.set_style(\"whitegrid\")\n",
    "sns.set_context(\"poster\")\n",
    "color = sns.color_palette()\n",
    "%matplotlib inline"
   ]
  },
  {
   "cell_type": "code",
   "execution_count": 37,
   "metadata": {
    "collapsed": true
   },
   "outputs": [],
   "source": [
    "x = 0\n",
    "T = 1000\n",
    "y = []\n",
    "for t in range(T):\n",
    "    x = np.random.normal(x, 0.1)\n",
    "    y.append(np.random.normal(x, 1))\n",
    "y = np.array(y)"
   ]
  },
  {
   "cell_type": "code",
   "execution_count": 38,
   "metadata": {},
   "outputs": [
    {
     "data": {
      "text/plain": [
       "[<matplotlib.lines.Line2D at 0x1152671d0>]"
      ]
     },
     "execution_count": 38,
     "metadata": {},
     "output_type": "execute_result"
    },
    {
     "data": {
      "image/png": "[encoded data removed]",
      "text/plain": [
       "<matplotlib.figure.Figure at 0x115061be0>"
      ]
     },
     "metadata": {},
     "output_type": "display_data"
    }
   ],
   "source": [
    "plt.plot(y)"
   ]
  },
  {
   "cell_type": "code",
   "execution_count": 39,
   "metadata": {
    "collapsed": true
   },
   "outputs": [],
   "source": [
    "def kalman_filter(y, sigma_eps, sigma_gamma, mu_init, sigma_init):\n",
    "    T = len(y)\n",
    "    mu = [mu_init]\n",
    "    sigma = [sigma_init]\n",
    "    for t in range(T):\n",
    "        sigma.append(1 / (sigma[-1] + sigma_eps) + 1 / sigma_gamma)\n",
    "        mu.append(mu[-1] + (sigma_eps + sigma[-1]) / (sigma_eps + sigma[-1] + sigma_gamma)*(y[t] -  mu[-1]))\n",
    "        \n",
    "    return mu, sigma"
   ]
  },
  {
   "cell_type": "code",
   "execution_count": 40,
   "metadata": {
    "collapsed": true
   },
   "outputs": [],
   "source": [
    "def kalman_smoother(y, x_filter, sigma_filter, sigma_eps, sigma_gamma):\n",
    "    T = len(y)\n",
    "    mu = [x_filter[-1]]\n",
    "    sigma = [sigma_filter[-1]]\n",
    "    for t in range(1, T + 1):\n",
    "        mu.append(x_filter[T - t] + sigma_filter[T - t]/(sigma_filter[T - t] + sigma_eps) * (mu[-1] - x_filter[T - t]))\n",
    "        sigma.append((sigma_filter[T - t]/(sigma_filter[T - t] + sigma_eps))**2 * sigma[-1] + sigma_filter[T-t]/(sigma_filter[T - t] + sigma_eps) * sigma_eps)\n",
    "    return mu, sigma"
   ]
  },
  {
   "cell_type": "code",
   "execution_count": 41,
   "metadata": {
    "collapsed": true
   },
   "outputs": [],
   "source": [
    "def E_step(y, sigma_eps, sigma_gamma, mu_init, sigma_init):\n",
    "    x_filter, sigma_filter = kalman_filter(y, sigma_eps, sigma_gamma, mu_init, sigma_init)\n",
    "    x_smoother, sigma_smoother = kalman_smoother(y, x_filter, sigma_filter, sigma_eps, sigma_gamma)\n",
    "    \n",
    "    return x_smoother[::-1], x_smoother[0], sigma_smoother, sigma_filter"
   ]
  },
  {
   "cell_type": "code",
   "execution_count": 42,
   "metadata": {},
   "outputs": [],
   "source": [
    "def M_step(y, x_smoother, sigma_smoother, sigma_filter, sigma_eps_old):\n",
    "    T = len(y)\n",
    "#     sigma_eps = sum((x_smoother[1:] - x_smoother[:T]) ** 2)/T\n",
    "#     sigma_gamma = sum((y - x_smoother[1:])**2)/(T + 1)\n",
    "\n",
    "    W = x_smoother ** 2 + sigma_smoother\n",
    "    W_cov = x_smoother[1:] * x_smoother[:T] \\\n",
    "            + sigma_filter[:T]/(sigma_filter[:T] + sigma_eps_old) * sigma_smoother[1:]\n",
    "    \n",
    "    sigma_eps = sum(W[1:] + W[:T] - 2 * W_cov)/T\n",
    "    sigma_gamma = sum(y ** 2 + x_smoother[1:]**2 + sigma_smoother[1:] - 2 * y * x_smoother[1:])/(T + 1)\n",
    "    \n",
    "    return sigma_eps, sigma_gamma"
   ]
  },
  {
   "cell_type": "code",
   "execution_count": 53,
   "metadata": {
    "collapsed": true
   },
   "outputs": [],
   "source": [
    "def EM(y):\n",
    "    sigma_eps_old = 0.08\n",
    "    sigma_gamma_old = 0.8\n",
    "    sigma_eps = 0.2\n",
    "    sigma_gamma = 1\n",
    "    mu_init = y[0]\n",
    "    sigma_init = 0.1\n",
    "    sigma_eps_ls = []\n",
    "    sigma_gamma_ls = []\n",
    "    while np.abs(sigma_eps_old - sigma_eps) > 1e-6 or np.abs(sigma_gamma_old - sigma_gamma) > 1e-6:\n",
    "        sigma_eps_old = sigma_eps\n",
    "        sigma_gamma_old = sigma_gamma\n",
    "        x_smoother,mu_init,sigma_smoother, sigma_filter = E_step(y, sigma_eps, sigma_gamma, mu_init, sigma_init)\n",
    "        sigma_eps, sigma_gamma = M_step(y, np.array(x_smoother), np.array(sigma_smoother), np.array(sigma_filter), sigma_eps_old)\n",
    "        sigma_eps_ls.append(sigma_eps)\n",
    "        sigma_gamma_ls.append(sigma_gamma)\n",
    "    \n",
    "    return x_smoother, sigma_eps_ls, sigma_gamma_ls"
   ]
  },
  {
   "cell_type": "code",
   "execution_count": 54,
   "metadata": {},
   "outputs": [],
   "source": [
    "x_smoother, sigma_eps_ls, sigma_gamma_ls = EM(y)"
   ]
  },
  {
   "cell_type": "code",
   "execution_count": 55,
   "metadata": {},
   "outputs": [
    {
     "data": {
      "text/plain": [
       "[<matplotlib.lines.Line2D at 0x1155b9e80>]"
      ]
     },
     "execution_count": 55,
     "metadata": {},
     "output_type": "execute_result"
    },
    {
     "data": {
      "image/png": "[encoded data removed]",
      "text/plain": [
       "<matplotlib.figure.Figure at 0x115576d68>"
      ]
     },
     "metadata": {},
     "output_type": "display_data"
    }
   ],
   "source": [
    "plt.plot(sigma_gamma_ls)"
   ]
  },
  {
   "cell_type": "code",
   "execution_count": 56,
   "metadata": {},
   "outputs": [
    {
     "data": {
      "text/plain": [
       "[0.19797362556420917,\n",
       " 0.19183693001025184,\n",
       " 0.18703271567088292,\n",
       " 0.18249615867617341,\n",
       " 0.17833930233279485,\n",
       " 0.1745007850226244,\n",
       " 0.17095276827088843,\n",
       " 0.16766677825638335,\n",
       " 0.16461844164764547,\n",
       " 0.1617861417164083,\n",
       " 0.15915074521303438,\n",
       " 0.1566952398492275,\n",
       " 0.15440445186503948,\n",
       " 0.152264804573216,\n",
       " 0.1502641144600108,\n",
       " 0.1483914176740651,\n",
       " 0.14663682183486876,\n",
       " 0.14499137894087027,\n",
       " 0.14344697595721728,\n",
       " 0.14199624027962132,\n",
       " 0.14063245776781255,\n",
       " 0.13934950144162872,\n",
       " 0.13814176925623062,\n",
       " 0.13700412963594488,\n",
       " 0.13593187366110837,\n",
       " 0.13492067297862984,\n",
       " 0.13396654265230773,\n",
       " 0.13306580828920833,\n",
       " 0.13221507687830591,\n",
       " 0.13141121086090735,\n",
       " 0.13065130502209774,\n",
       " 0.12993266585099647,\n",
       " 0.1292527930669474,\n",
       " 0.12860936305046633,\n",
       " 0.12800021395313052,\n",
       " 0.12742333229065536,\n",
       " 0.12687684084905748,\n",
       " 0.1263589877557223,\n",
       " 0.12586813658600698,\n",
       " 0.12540275739217088,\n",
       " 0.12496141855535592,\n",
       " 0.12454277937337734,\n",
       " 0.12414558330750364,\n",
       " 0.12376865182044922,\n",
       " 0.12341087874566492,\n",
       " 0.12307122513487061,\n",
       " 0.12274871453675516,\n",
       " 0.12244242866501054,\n",
       " 0.12215150341845837,\n",
       " 0.12187512522005671,\n",
       " 0.1216125276451297,\n",
       " 0.12136298831228659,\n",
       " 0.1211258260132593,\n",
       " 0.12090039806033383,\n",
       " 0.12068609783220828,\n",
       " 0.1204823525010398,\n",
       " 0.12028862092513817,\n",
       " 0.1201043916932896,\n",
       " 0.1199291813080434,\n",
       " 0.11976253249650409,\n",
       " 0.11960401263825073,\n",
       " 0.119453212300967,\n",
       " 0.11930974387523773,\n",
       " 0.11917324030073637,\n",
       " 0.1190433538767333,\n",
       " 0.11891975515047477,\n",
       " 0.1188021318775559,\n",
       " 0.11869018804891009,\n",
       " 0.11858364297950987,\n",
       " 0.11848223045427554,\n",
       " 0.11838569792707905,\n",
       " 0.1182938057690586,\n",
       " 0.1182063265627762,\n",
       " 0.11812304443902885,\n",
       " 0.11804375445337525,\n",
       " 0.11796826199968015,\n",
       " 0.11789638225817872,\n",
       " 0.11782793967576612,\n",
       " 0.11776276747638564,\n",
       " 0.11770070719955328,\n",
       " 0.11764160826520004,\n",
       " 0.11758532756315161,\n",
       " 0.1175317290656856,\n",
       " 0.11748068346171667,\n",
       " 0.11743206781126875,\n",
       " 0.1173857652189852,\n",
       " 0.11734166452551442,\n",
       " 0.1172996600156924,\n",
       " 0.11725965114251347,\n",
       " 0.11722154226595086,\n",
       " 0.11718524240575603,\n",
       " 0.11715066500741168,\n",
       " 0.11711772772048187,\n",
       " 0.11708635218864312,\n",
       " 0.11705646385072768,\n",
       " 0.11702799175215631,\n",
       " 0.11700086836617404,\n",
       " 0.11697502942433895,\n",
       " 0.11695041375575224,\n",
       " 0.11692696313454477,\n",
       " 0.11690462213516778,\n",
       " 0.1168833379950604,\n",
       " 0.11686306048429622,\n",
       " 0.11684374178182949,\n",
       " 0.11682533635798911,\n",
       " 0.11680780086288611,\n",
       " 0.11679109402042039,\n",
       " 0.11677517652759033,\n",
       " 0.11676001095882872,\n",
       " 0.11674556167509877,\n",
       " 0.11673179473750385,\n",
       " 0.11671867782517657,\n",
       " 0.11670618015722573,\n",
       " 0.116694272418532,\n",
       " 0.11668292668919575,\n",
       " 0.11667211637744952,\n",
       " 0.1166618161558587,\n",
       " 0.11665200190064376,\n",
       " 0.11664265063396742,\n",
       " 0.11663374046903424,\n",
       " 0.1166252505578639,\n",
       " 0.11661716104160326,\n",
       " 0.11660945300325053,\n",
       " 0.11660210842266912,\n",
       " 0.11659511013378095,\n",
       " 0.1165884417838292,\n",
       " 0.11658208779460622,\n",
       " 0.11657603332555377,\n",
       " 0.11657026423863882,\n",
       " 0.11656476706492126,\n",
       " 0.11655952897272712,\n",
       " 0.11655453773735275,\n",
       " 0.1165497817122204,\n",
       " 0.11654524980141788,\n",
       " 0.1165409314335539,\n",
       " 0.11653681653686315,\n",
       " 0.11653289551550394,\n",
       " 0.11652915922698694,\n",
       " 0.11652559896068311,\n",
       " 0.11652220641735653,\n",
       " 0.11651897368967383,\n",
       " 0.11651589324364219,\n",
       " 0.11651295790093225,\n",
       " 0.1165101608220422,\n",
       " 0.11650749549026282,\n",
       " 0.11650495569640587,\n",
       " 0.11650253552425793,\n",
       " 0.1165002293367251,\n",
       " 0.11649803176263708,\n",
       " 0.11649593768417617,\n",
       " 0.11649394222490395,\n",
       " 0.11649204073835562,\n",
       " 0.11649022879717529,\n",
       " 0.11648850218276592,\n",
       " 0.11648685687543031,\n",
       " 0.11648528904497883,\n",
       " 0.11648379504178226,\n",
       " 0.11648237138824835,\n",
       " 0.11648101477070004,\n",
       " 0.11647972203164184,\n",
       " 0.11647849016238863,\n",
       " 0.1164773162960437,\n",
       " 0.1164761977008102,\n",
       " 0.11647513177361864,\n",
       " 0.11647411603405351,\n",
       " 0.11647314811856914,\n",
       " 0.1164722257749788,\n",
       " 0.11647134685720263,\n",
       " 0.11647050932026452]"
      ]
     },
     "execution_count": 56,
     "metadata": {},
     "output_type": "execute_result"
    }
   ],
   "source": [
    "sigma_eps_ls"
   ]
  },
  {
   "cell_type": "code",
   "execution_count": 57,
   "metadata": {},
   "outputs": [
    {
     "data": {
      "text/plain": [
       "[1.7141727730202054,\n",
       " 1.5376402141145065,\n",
       " 1.5691077859881344,\n",
       " 1.567746104813366,\n",
       " 1.5717341498140427,\n",
       " 1.574595740733663,\n",
       " 1.5774332847026125,\n",
       " 1.5800788875761038,\n",
       " 1.5825750738022126,\n",
       " 1.5849279161794068,\n",
       " 1.5871482591862922,\n",
       " 1.589245049011451,\n",
       " 1.5912265702651418,\n",
       " 1.5931003577387064,\n",
       " 1.5948733097295518,\n",
       " 1.596551754460928,\n",
       " 1.5981415125673375,\n",
       " 1.599647950424853,\n",
       " 1.6010760266783242,\n",
       " 1.6024303328277818,\n",
       " 1.6037151287722045,\n",
       " 1.6049343740336668,\n",
       " 1.6060917552741163,\n",
       " 1.6071907106200127,\n",
       " 1.608234451230582,\n",
       " 1.609225980479162,\n",
       " 1.6101681110617379,\n",
       " 1.6110634803005788,\n",
       " 1.6119145638718266,\n",
       " 1.6127236881533373,\n",
       " 1.6134930413613584,\n",
       " 1.6142246836211358,\n",
       " 1.6149205560968964,\n",
       " 1.615582489289571,\n",
       " 1.616212210596373,\n",
       " 1.6168113512139413,\n",
       " 1.6173814524563264,\n",
       " 1.6179239715499705,\n",
       " 1.6184402869601566,\n",
       " 1.618931703296627,\n",
       " 1.6193994558403428,\n",
       " 1.6198447147283461,\n",
       " 1.6202685888293828,\n",
       " 1.62067212933911,\n",
       " 1.6210563331205705,\n",
       " 1.6214221458125988,\n",
       " 1.6217704647265376,\n",
       " 1.622102141549246,\n",
       " 1.6224179848686953,\n",
       " 1.6227187625365536,\n",
       " 1.6230052038809286,\n",
       " 1.6232780017809274,\n",
       " 1.6235378146135877,\n",
       " 1.6237852680829286,\n",
       " 1.624020956939635,\n",
       " 1.6242454465993572,\n",
       " 1.6244592746667759,\n",
       " 1.624662952371993,\n",
       " 1.6248569659252141,\n",
       " 1.6250417777951753,\n",
       " 1.6252178279164107,\n",
       " 1.6253855348298696,\n",
       " 1.6255452967611999,\n",
       " 1.6256974926406085,\n",
       " 1.625842483067838,\n",
       " 1.625980611225744,\n",
       " 1.6261122037453912,\n",
       " 1.6262375715257114,\n",
       " 1.62635701051026,\n",
       " 1.6264708024236507,\n",
       " 1.626579215469918,\n",
       " 1.626682504994983,\n",
       " 1.6267809141152494,\n",
       " 1.626874674314236,\n",
       " 1.626964006008901,\n",
       " 1.6270491190874765,\n",
       " 1.6271302134202006,\n",
       " 1.6272074793444946,\n",
       " 1.6272810981259564,\n",
       " 1.6273512423963576,\n",
       " 1.6274180765699804,\n",
       " 1.6274817572393279,\n",
       " 1.627542433551341,\n",
       " 1.6276002475650921,\n",
       " 1.6276553345919351,\n",
       " 1.6277078235189946,\n",
       " 1.6277578371168757,\n",
       " 1.627805492332317,\n",
       " 1.6278509005666515,\n",
       " 1.6278941679407182,\n",
       " 1.6279353955469296,\n",
       " 1.627974679689126,\n",
       " 1.6280121121108302,\n",
       " 1.6280477802125108,\n",
       " 1.6280817672583394,\n",
       " 1.628114152572978,\n",
       " 1.6281450117289575,\n",
       " 1.6281744167249925,\n",
       " 1.6282024361557692,\n",
       " 1.6282291353735916,\n",
       " 1.6282545766422771,\n",
       " 1.6282788192836777,\n",
       " 1.6283019198172264,\n",
       " 1.6283239320927683,\n",
       " 1.6283449074170973,\n",
       " 1.6283648946744416,\n",
       " 1.6283839404411575,\n",
       " 1.628402089095051,\n",
       " 1.6284193829193965,\n",
       " 1.6284358622020743,\n",
       " 1.6284515653299743,\n",
       " 1.6284665288788789,\n",
       " 1.628480787699122,\n",
       " 1.6284943749971519,\n",
       " 1.6285073224132385,\n",
       " 1.628519660095464,\n",
       " 1.6285314167702483,\n",
       " 1.6285426198094832,\n",
       " 1.6285532952945292,\n",
       " 1.6285634680771306,\n",
       " 1.628573161837495,\n",
       " 1.6285823991395967,\n",
       " 1.6285912014838422,\n",
       " 1.6285995893572978,\n",
       " 1.628607582281492,\n",
       " 1.628615198857967,\n",
       " 1.6286224568116987,\n",
       " 1.6286293730324317,\n",
       " 1.628635963614085,\n",
       " 1.6286422438922912,\n",
       " 1.6286482284801365,\n",
       " 1.6286539313022559,\n",
       " 1.6286593656272887,\n",
       " 1.6286645440987881,\n",
       " 1.6286694787647216,\n",
       " 1.6286741811055205,\n",
       " 1.6286786620608429,\n",
       " 1.6286829320550744,\n",
       " 1.6286870010215806,\n",
       " 1.6286908784258947,\n",
       " 1.6286945732877145,\n",
       " 1.6286980942019544,\n",
       " 1.6287014493587297,\n",
       " 1.628704646562452,\n",
       " 1.6287076932499913,\n",
       " 1.6287105965079987,\n",
       " 1.6287133630893904,\n",
       " 1.6287159994291018,\n",
       " 1.6287185116590213,\n",
       " 1.6287209056223162,\n",
       " 1.6287231868869934,\n",
       " 1.6287253607588827,\n",
       " 1.6287274322939775,\n",
       " 1.6287294063102022,\n",
       " 1.6287312873986222,\n",
       " 1.6287330799341488,\n",
       " 1.6287347880856842,\n",
       " 1.6287364158258553,\n",
       " 1.628737966940236,\n",
       " 1.6287394450361778,\n",
       " 1.6287408535511787,\n",
       " 1.6287421957608976,\n",
       " 1.6287434747867697,\n",
       " 1.6287446936032706,\n",
       " 1.6287458550448404,\n",
       " 1.62874696181246,\n",
       " 1.6287480164799701,\n",
       " 1.6287490215000193,\n",
       " 1.6287499792097941]"
      ]
     },
     "execution_count": 57,
     "metadata": {},
     "output_type": "execute_result"
    }
   ],
   "source": [
    "sigma_gamma_ls"
   ]
  },
  {
   "cell_type": "code",
   "execution_count": 38,
   "metadata": {
    "collapsed": true
   },
   "outputs": [],
   "source": [
    "x_filter, sigma_filter = kalman_filter(y, 0.05, 0.5, y[0], 0.05)"
   ]
  },
  {
   "cell_type": "code",
   "execution_count": 39,
   "metadata": {
    "collapsed": true
   },
   "outputs": [],
   "source": [
    "x_smoother,_ = kalman_smoother(y, x_filter, sigma_filter, 0.05, 0.5)"
   ]
  },
  {
   "cell_type": "code",
   "execution_count": null,
   "metadata": {
    "collapsed": true
   },
   "outputs": [],
   "source": []
  },
  {
   "cell_type": "code",
   "execution_count": 87,
   "metadata": {
    "collapsed": true
   },
   "outputs": [],
   "source": [
    "df = pd.read_csv('cryptocurrencypricehistory-daily/bitcoin_price.csv')"
   ]
  },
  {
   "cell_type": "code",
   "execution_count": 88,
   "metadata": {
    "collapsed": true
   },
   "outputs": [],
   "source": [
    "df = df[::-1]"
   ]
  },
  {
   "cell_type": "code",
   "execution_count": 89,
   "metadata": {},
   "outputs": [
    {
     "data": {
      "text/plain": [
       "<matplotlib.axes._subplots.AxesSubplot at 0x1a1ebb1940>"
      ]
     },
     "execution_count": 89,
     "metadata": {},
     "output_type": "execute_result"
    },
    {
     "data": {
      "image/png": "[encoded data removed]",
      "text/plain": [
       "<matplotlib.figure.Figure at 0x1a1eb694a8>"
      ]
     },
     "metadata": {},
     "output_type": "display_data"
    }
   ],
   "source": [
    "df.plot('Date', 'Close', figsize=(20,10))"
   ]
  },
  {
   "cell_type": "code",
   "execution_count": 83,
   "metadata": {
    "collapsed": true
   },
   "outputs": [],
   "source": [
    "price = df.Close.values"
   ]
  },
  {
   "cell_type": "code",
   "execution_count": 203,
   "metadata": {
    "collapsed": true
   },
   "outputs": [],
   "source": [
    "#price_ret = (price[1:] - price[:len(price) - 1]) / price[:len(price) - 1]\n",
    "price_ret = np.log(price)"
   ]
  },
  {
   "cell_type": "code",
   "execution_count": 220,
   "metadata": {
    "collapsed": true
   },
   "outputs": [],
   "source": [
    "x_smoother, sigma_eps_ls, sigma_gamma_ls= EM(price_ret[:1500])"
   ]
  },
  {
   "cell_type": "code",
   "execution_count": 221,
   "metadata": {},
   "outputs": [
    {
     "data": {
      "text/plain": [
       "[2.2381532837862386,\n",
       " 2.8484482522417283,\n",
       " 3.7443712534738443,\n",
       " 3.6827550678762551,\n",
       " 3.6868336902199572,\n",
       " 3.686562744730205,\n",
       " 3.6865807395132872,\n",
       " 3.6865795443749168,\n",
       " 3.686579623750927]"
      ]
     },
     "execution_count": 221,
     "metadata": {},
     "output_type": "execute_result"
    }
   ],
   "source": [
    "sigma_gamma_ls"
   ]
  },
  {
   "cell_type": "markdown",
   "metadata": {},
   "source": [
    "E[exp(X)]=exp(μ+σ2/2)"
   ]
  },
  {
   "cell_type": "code",
   "execution_count": 222,
   "metadata": {},
   "outputs": [
    {
     "data": {
      "text/plain": [
       "[<matplotlib.lines.Line2D at 0x1a26d0d7f0>]"
      ]
     },
     "execution_count": 222,
     "metadata": {},
     "output_type": "execute_result"
    },
    {
     "data": {
      "image/png": "[encoded data removed]",
      "text/plain": [
       "<matplotlib.figure.Figure at 0x1a26280748>"
      ]
     },
     "metadata": {},
     "output_type": "display_data"
    }
   ],
   "source": [
    "plt.plot(x_smoother[1:])"
   ]
  },
  {
   "cell_type": "code",
   "execution_count": 223,
   "metadata": {},
   "outputs": [
    {
     "data": {
      "text/plain": [
       "[<matplotlib.lines.Line2D at 0x1a26df52b0>]"
      ]
     },
     "execution_count": 223,
     "metadata": {},
     "output_type": "execute_result"
    },
    {
     "data": {
      "image/png": "[encoded data removed]",
      "text/plain": [
       "<matplotlib.figure.Figure at 0x1a26639ac8>"
      ]
     },
     "metadata": {},
     "output_type": "display_data"
    }
   ],
   "source": [
    "plt.plot(price_ret)"
   ]
  },
  {
   "cell_type": "code",
   "execution_count": 225,
   "metadata": {
    "collapsed": true
   },
   "outputs": [],
   "source": [
    "x_filter, sigma_filter = kalman_filter(price_ret[:1759], sigma_eps_ls[-1],  sigma_gamma_ls[-1], price_ret[0], sigma_gamma_ls[-1])"
   ]
  },
  {
   "cell_type": "code",
   "execution_count": 226,
   "metadata": {},
   "outputs": [
    {
     "data": {
      "text/plain": [
       "[<matplotlib.lines.Line2D at 0x1a26d43ef0>]"
      ]
     },
     "execution_count": 226,
     "metadata": {},
     "output_type": "execute_result"
    },
    {
     "data": {
      "image/png": "[encoded data removed]",
      "text/plain": [
       "<matplotlib.figure.Figure at 0x1a26d43c50>"
      ]
     },
     "metadata": {},
     "output_type": "display_data"
    }
   ],
   "source": [
    "plt.errorbar(range(len(x_filter)), x_filter, yerr= 2 * np.sqrt(sigma_filter))\n",
    "#plt.plot(price_ret[1000:1010])\n",
    "plt.plot(price_ret[:1760])"
   ]
  },
  {
   "cell_type": "code",
   "execution_count": 246,
   "metadata": {},
   "outputs": [
    {
     "data": {
      "text/plain": [
       "0.072068795165417657"
      ]
     },
     "execution_count": 246,
     "metadata": {},
     "output_type": "execute_result"
    }
   ],
   "source": [
    "np.sqrt(mean_squared_error(price_ret, x_filter))"
   ]
  },
  {
   "cell_type": "code",
   "execution_count": 230,
   "metadata": {},
   "outputs": [
    {
     "name": "stderr",
     "output_type": "stream",
     "text": [
      "Using TensorFlow backend.\n"
     ]
    }
   ],
   "source": [
    "# compare with lstm\n",
    "from keras.models import Sequential\n",
    "from keras.layers import Dense\n",
    "from keras.layers import LSTM\n",
    "from sklearn.preprocessing import MinMaxScaler\n",
    "from sklearn.metrics import mean_squared_error"
   ]
  },
  {
   "cell_type": "code",
   "execution_count": 238,
   "metadata": {
    "collapsed": true
   },
   "outputs": [],
   "source": [
    "# normalize the dataset\n",
    "price_norm = price_ret.reshape(-1, 1)\n",
    "scaler = MinMaxScaler(feature_range=(0, 1))\n",
    "price = scaler.fit_transform(price_norm)"
   ]
  },
  {
   "cell_type": "code",
   "execution_count": 239,
   "metadata": {},
   "outputs": [
    {
     "name": "stdout",
     "output_type": "stream",
     "text": [
      "1500 260\n"
     ]
    }
   ],
   "source": [
    "# split into train and test sets\n",
    "train_size = 1500\n",
    "test_size = len(price) - train_size\n",
    "train, test = price[0:train_size], price[train_size:len(price)]\n",
    "print(len(train), len(test))"
   ]
  },
  {
   "cell_type": "code",
   "execution_count": 240,
   "metadata": {
    "collapsed": true
   },
   "outputs": [],
   "source": [
    "# convert an array of values into a dataset matrix\n",
    "def create_dataset(price, look_back=1):\n",
    "    X = []\n",
    "    for i in range(look_back):\n",
    "        X.append(price[i : i + len(price) - look_back])\n",
    "    X.append(price[look_back: len(price)])\n",
    "    return X"
   ]
  },
  {
   "cell_type": "code",
   "execution_count": 241,
   "metadata": {
    "collapsed": true
   },
   "outputs": [],
   "source": [
    "# reshape into X=t and Y=t+1\n",
    "look_back = 1\n",
    "train = create_dataset(train, look_back)\n",
    "test = create_dataset(test, look_back)"
   ]
  },
  {
   "cell_type": "code",
   "execution_count": 242,
   "metadata": {
    "collapsed": true
   },
   "outputs": [],
   "source": [
    "trainX = train[0]\n",
    "trainY = train[1]\n",
    "testX = test[0]\n",
    "testY = test[1]"
   ]
  },
  {
   "cell_type": "code",
   "execution_count": 243,
   "metadata": {
    "collapsed": true
   },
   "outputs": [],
   "source": [
    "# reshape input to be [samples, time steps, features]\n",
    "trainX = np.reshape(trainX, (trainX.shape[0], 1, trainX.shape[1]))\n",
    "testX = np.reshape(testX, (testX.shape[0], 1, testX.shape[1]))"
   ]
  },
  {
   "cell_type": "code",
   "execution_count": 244,
   "metadata": {},
   "outputs": [
    {
     "name": "stdout",
     "output_type": "stream",
     "text": [
      "Epoch 1/10\n",
      " - 5s - loss: 0.0229\n",
      "Epoch 2/10\n",
      " - 4s - loss: 0.0042\n",
      "Epoch 3/10\n",
      " - 4s - loss: 2.6672e-04\n",
      "Epoch 4/10\n",
      " - 4s - loss: 9.1547e-05\n",
      "Epoch 5/10\n",
      " - 4s - loss: 8.8137e-05\n",
      "Epoch 6/10\n",
      " - 4s - loss: 8.1218e-05\n",
      "Epoch 7/10\n",
      " - 4s - loss: 7.7419e-05\n",
      "Epoch 8/10\n",
      " - 4s - loss: 7.3923e-05\n",
      "Epoch 9/10\n",
      " - 4s - loss: 7.1692e-05\n",
      "Epoch 10/10\n",
      " - 4s - loss: 7.1782e-05\n"
     ]
    },
    {
     "data": {
      "text/plain": [
       "<keras.callbacks.History at 0x1a335ebf98>"
      ]
     },
     "execution_count": 244,
     "metadata": {},
     "output_type": "execute_result"
    }
   ],
   "source": [
    "# create and fit the LSTM network\n",
    "model = Sequential()\n",
    "model.add(LSTM(4, input_shape=(1, look_back)))\n",
    "model.add(Dense(1))\n",
    "model.compile(loss='mean_squared_error', optimizer='adam')\n",
    "model.fit(trainX, trainY, epochs=10, batch_size=1, verbose=2)"
   ]
  },
  {
   "cell_type": "code",
   "execution_count": 247,
   "metadata": {
    "collapsed": true
   },
   "outputs": [],
   "source": [
    "# make predictions\n",
    "trainPredict = model.predict(trainX)\n",
    "testPredict = model.predict(testX)"
   ]
  },
  {
   "cell_type": "code",
   "execution_count": 248,
   "metadata": {},
   "outputs": [
    {
     "name": "stdout",
     "output_type": "stream",
     "text": [
      "Train Score: 0.01 RMSE\n",
      "Test Score: 0.02 RMSE\n"
     ]
    }
   ],
   "source": [
    "# calculate root mean squared error\n",
    "trainScore = np.sqrt(mean_squared_error(trainY, trainPredict))\n",
    "print('Train Score: %.2f RMSE' % (trainScore))\n",
    "testScore = np.sqrt(mean_squared_error(testY, testPredict))\n",
    "print('Test Score: %.2f RMSE' % (testScore))"
   ]
  },
  {
   "cell_type": "code",
   "execution_count": null,
   "metadata": {
    "collapsed": true
   },
   "outputs": [],
   "source": []
  }
 ],
 "metadata": {
  "kernelspec": {
   "display_name": "Python 3",
   "language": "python",
   "name": "python3"
  },
  "language_info": {
   "codemirror_mode": {
    "name": "ipython",
    "version": 3
   },
   "file_extension": ".py",
   "mimetype": "text/x-python",
   "name": "python",
   "nbconvert_exporter": "python",
   "pygments_lexer": "ipython3",
   "version": "3.6.1"
  }
 },
 "nbformat": 4,
 "nbformat_minor": 2
}
